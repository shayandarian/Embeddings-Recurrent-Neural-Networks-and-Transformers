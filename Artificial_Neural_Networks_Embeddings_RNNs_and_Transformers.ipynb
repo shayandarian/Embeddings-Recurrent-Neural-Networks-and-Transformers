{
  "cells": [
    {
      "cell_type": "markdown",
      "source": [
        "# CPSC 585 Project 3\n",
        "Group 5"
      ],
      "metadata": {
        "id": "cRXDaBsKMROo"
      }
    },
    {
      "cell_type": "markdown",
      "source": [
        "## Group Members\n",
        "* Andrew Abel\n",
        "* Shayan Darian\n",
        "* Harshita Mhaske\n",
        "* Bharti Moryani\n",
        "* Jeffrey Rhoten"
      ],
      "metadata": {
        "id": "m474GhIKT2HY"
      }
    },
    {
      "cell_type": "markdown",
      "source": [
        "## Contributions"
      ],
      "metadata": {
        "id": "3qRUe2j7XjWm"
      }
    },
    {
      "cell_type": "markdown",
      "source": [
        "Andrew Abel:\n",
        "\n",
        "20%"
      ],
      "metadata": {
        "id": "yAC0RFoIZl1D"
      }
    },
    {
      "cell_type": "markdown",
      "source": [
        "Shayan Darian:\n",
        "\n",
        "20%"
      ],
      "metadata": {
        "id": "ZeVOGTqsaK42"
      }
    },
    {
      "cell_type": "markdown",
      "source": [
        "Harshita Mhaske:\n",
        "\n",
        "20%"
      ],
      "metadata": {
        "id": "2JY2vAOwaOea"
      }
    },
    {
      "cell_type": "markdown",
      "source": [
        "Bharti Moryani:\n",
        "\n",
        "20%"
      ],
      "metadata": {
        "id": "Um5pbJJ4aQvc"
      }
    },
    {
      "cell_type": "markdown",
      "source": [
        "Jeffrey Rhoten:\n",
        "\n",
        "20%"
      ],
      "metadata": {
        "id": "MFdFqv94aTmy"
      }
    },
    {
      "cell_type": "markdown",
      "source": [
        "## Project Details"
      ],
      "metadata": {
        "id": "38CaQr6aXpjb"
      }
    },
    {
      "cell_type": "markdown",
      "source": [
        "Our project covers word embeddings, construction of RNN's for regression and classifcation, and a Transformer.\n",
        "\n",
        "The final version of our code is located under the \"Large & Smaller (Combined) Dataset\" heading. We have included other versions of the code below in the \"Large Dataset (only)\" section to document our progress and improvements over time."
      ],
      "metadata": {
        "id": "QjjFJGArX7v2"
      }
    },
    {
      "cell_type": "markdown",
      "source": [
        "# Large & Smaller (Combined) Dataset\n",
        "\n",
        "In this section, we trained and tested our models on larger dataset by combining .csv and .json data."
      ],
      "metadata": {
        "id": "_1eUfkGQMu1k"
      }
    },
    {
      "cell_type": "markdown",
      "metadata": {
        "id": "0N4H0psvKVf7"
      },
      "source": [
        "## Connect with drive and import libraries"
      ]
    },
    {
      "cell_type": "markdown",
      "metadata": {
        "id": "gzNkD7baREYI"
      },
      "source": [
        "Import collab"
      ]
    },
    {
      "cell_type": "code",
      "execution_count": null,
      "metadata": {
        "colab": {
          "base_uri": "https://localhost:8080/"
        },
        "id": "1rqp2wNHy10n",
        "outputId": "fdc832ff-c0cd-48fe-b45e-9cecad37d967"
      },
      "outputs": [
        {
          "output_type": "stream",
          "name": "stdout",
          "text": [
            "Mounted at /content/drive\n"
          ]
        }
      ],
      "source": [
        "from google.colab import drive\n",
        "drive.mount('/content/drive')"
      ]
    },
    {
      "cell_type": "code",
      "source": [
        "!pip install contractions"
      ],
      "metadata": {
        "colab": {
          "base_uri": "https://localhost:8080/"
        },
        "id": "SgegE4gUsZZx",
        "outputId": "351dee1c-2d07-4e0d-dcce-2bf0aaa596e9"
      },
      "execution_count": null,
      "outputs": [
        {
          "output_type": "stream",
          "name": "stdout",
          "text": [
            "Collecting contractions\n",
            "  Downloading contractions-0.1.73-py2.py3-none-any.whl (8.7 kB)\n",
            "Collecting textsearch>=0.0.21 (from contractions)\n",
            "  Downloading textsearch-0.0.24-py2.py3-none-any.whl (7.6 kB)\n",
            "Collecting anyascii (from textsearch>=0.0.21->contractions)\n",
            "  Downloading anyascii-0.3.2-py3-none-any.whl (289 kB)\n",
            "\u001b[2K     \u001b[90m━━━━━━━━━━━━━━━━━━━━━━━━━━━━━━━━━━━━━━━━\u001b[0m \u001b[32m289.9/289.9 kB\u001b[0m \u001b[31m9.7 MB/s\u001b[0m eta \u001b[36m0:00:00\u001b[0m\n",
            "\u001b[?25hCollecting pyahocorasick (from textsearch>=0.0.21->contractions)\n",
            "  Downloading pyahocorasick-2.1.0-cp310-cp310-manylinux_2_5_x86_64.manylinux1_x86_64.manylinux_2_12_x86_64.manylinux2010_x86_64.whl (110 kB)\n",
            "\u001b[2K     \u001b[90m━━━━━━━━━━━━━━━━━━━━━━━━━━━━━━━━━━━━━━━━\u001b[0m \u001b[32m110.7/110.7 kB\u001b[0m \u001b[31m14.6 MB/s\u001b[0m eta \u001b[36m0:00:00\u001b[0m\n",
            "\u001b[?25hInstalling collected packages: pyahocorasick, anyascii, textsearch, contractions\n",
            "Successfully installed anyascii-0.3.2 contractions-0.1.73 pyahocorasick-2.1.0 textsearch-0.0.24\n"
          ]
        }
      ]
    },
    {
      "cell_type": "markdown",
      "metadata": {
        "id": "u6rze6bKHmtu"
      },
      "source": [
        "Import libraries"
      ]
    },
    {
      "cell_type": "code",
      "execution_count": null,
      "metadata": {
        "id": "m4vZeGl_R1L8"
      },
      "outputs": [],
      "source": [
        "import pandas as pd\n",
        "import json\n",
        "import numpy as np\n",
        "from sklearn.model_selection import train_test_split\n",
        "from tensorflow.keras.preprocessing.text import Tokenizer\n",
        "from tensorflow.keras.preprocessing.sequence import pad_sequences\n",
        "from tensorflow.keras.models import Sequential, Model\n",
        "from tensorflow.keras.layers import Embedding, LSTM, Dense, Bidirectional\n",
        "from tensorflow.keras.layers import LayerNormalization, Dropout, Input\n",
        "from tensorflow.keras.layers import MultiHeadAttention, GlobalAveragePooling1D\n",
        "import tensorflow as tf\n",
        "from tensorflow.keras.callbacks import ModelCheckpoint, EarlyStopping\n",
        "import contractions\n",
        "import re\n",
        "import numpy as np"
      ]
    },
    {
      "cell_type": "markdown",
      "source": [
        "## Preprocessing"
      ],
      "metadata": {
        "id": "mKWsciGXRvdv"
      }
    },
    {
      "cell_type": "markdown",
      "metadata": {
        "id": "6sVhtLvkR4ZD"
      },
      "source": [
        "Import csv dataset located in google drive"
      ]
    },
    {
      "cell_type": "code",
      "execution_count": null,
      "metadata": {
        "id": "3nBh8I1uSK5I"
      },
      "outputs": [],
      "source": [
        "# Import csv dataset located in google drive\n",
        "csv_dataset_path = '/content/drive/MyDrive/Colab Notebooks/RateMyProfessor_Sample data.csv'\n",
        "df_csv = pd.read_csv(csv_dataset_path)"
      ]
    },
    {
      "cell_type": "markdown",
      "source": [
        "Import json dataset also located in google drive"
      ],
      "metadata": {
        "id": "KYDx5KOEhFXG"
      }
    },
    {
      "cell_type": "code",
      "source": [
        "# Import json dataset also located in google drive\n",
        "json_dataset_path = '/content/drive/MyDrive/Colab Notebooks/all_reviews.json'\n",
        "df_json = pd.read_json(json_dataset_path)"
      ],
      "metadata": {
        "id": "7u7pwFj-4-lq"
      },
      "execution_count": null,
      "outputs": []
    },
    {
      "cell_type": "markdown",
      "source": [
        "Open and Read json."
      ],
      "metadata": {
        "id": "3cnFh0rshH85"
      }
    },
    {
      "cell_type": "code",
      "source": [
        "# Load the JSON file\n",
        "with open(json_dataset_path, 'r') as f:\n",
        "    data = json.load(f)\n",
        "\n",
        "# Display the first few rows to inspect the structure\n",
        "print(data[:2])  # Print the first two rows for inspection"
      ],
      "metadata": {
        "colab": {
          "base_uri": "https://localhost:8080/"
        },
        "id": "HWvJTmJXB6mC",
        "outputId": "42eec180-39bc-43be-b24c-524c7ce3819a"
      },
      "execution_count": null,
      "outputs": [
        {
          "output_type": "stream",
          "name": "stdout",
          "text": [
            "[[{'course_id': ' FHS010', 'Quality': '5.0', 'Difficulty': '2.0', 'For Credit': 'Yes', 'Would Take Again': 'Yes', 'Grade': 'A', 'Textbook': 'No', 'Comment': \"Professor Nichols is super nice and very wholesome! There is a lot of reading, but you can get by without doing very much of it. He does talk a LOT and doesn't foster as much discussion, but I think the latter might also be because people stop doing the readings a few weeks in. He does appreciate participation and gives great essay feedback!\", 'professor': 'James Nichols ', 'department': 'Government department'}, {'course_id': ' FHS010', 'Quality': '3.0', 'Difficulty': '1.0', 'For Credit': 'Yes', 'Attendance': 'Mandatory', 'Would Take Again': 'No', 'Textbook': 'No', 'Comment': 'Very chill class and teacher, very easy grader, but talks for most of the class and does not really foster discussion.', 'professor': 'James Nichols ', 'department': 'Government department'}, {'course_id': ' POLPHILOSOPHY', 'Quality': '4.0', 'Difficulty': '1.0', 'For Credit': 'Yes', 'Textbook': 'Yes', 'Comment': 'Awesome, easy, knows literally everything about his subject it is crazy!', 'professor': 'James Nichols ', 'department': 'Government department'}, {'course_id': ' FHS010', 'Quality': '5.0', 'Difficulty': '2.0', 'Textbook': 'Yes', 'Comment': \"Prof. Nichols is a super nice and encouraging man. And most importantly, he is extremely knowledgeable and you will learn a great deal from him. The class is pretty easy 'cause he's an easy grader. He takes rolls at the beginning of the semester but you will be fine if you don't go to this class from time to time. Highly recommend!\", 'professor': 'James Nichols ', 'department': 'Government department'}, {'course_id': ' FHS10', 'Quality': '5.0', 'Difficulty': '1.0', 'Textbook': 'Yes', 'Comment': 'Good Professor. Really nice and encouraging teacher. Class moves along at an enjoyable but swift pace.', 'professor': 'James Nichols ', 'department': 'Government department'}, {'course_id': ' CIV10', 'Quality': '4.5', 'Difficulty': '2.0', 'Textbook': 'Yes', 'Comment': 'Not very difficult and the reading is not very difficult. He knows his stuff.', 'professor': 'James Nichols ', 'department': 'Government department'}, {'course_id': ' CIV10', 'Quality': '4.0', 'Difficulty': '1.0', 'Textbook': 'Yes', 'Comment': \"If you aren't looking forward to taking Civ, take nichols. He doesn't hold you responsible for the reading and he is an easy grader. The assessments are reasonable and infrequent. The class is pretty boring, but it is important to go. Just regurgitate the lectures in your papers with a little extra insight and you'll do really well.\", 'professor': 'James Nichols ', 'department': 'Government department'}, {'course_id': ' CIV10', 'Quality': '3.5', 'Difficulty': '2.0', 'Textbook': 'Yes', 'Comment': \"Smart guy. Is obviously interested in the books he chose and knows alot about them. If yo don't do the reading, you can get by. It's more interesting if you do though. Was on friday at 10 which was less than ideal, but a pretty good teacher. Papers were really easy. Just pay attention in class, and expand his ideas.\", 'professor': 'James Nichols ', 'department': 'Government department'}, {'course_id': ' CIV10', 'Quality': '4.0', 'Difficulty': '1.0', 'Textbook': 'Yes', 'Comment': \"If you don't like the idea of having to take Civ, then Nichols is the guy for you. Discussions are more like lectures, so he doesn't hold people responsible for the reading. He grades papers generously and there aren't very many of them. You won't have fun, but it won't be that  much work and you'll do decently.\", 'professor': 'James Nichols ', 'department': 'Government department'}, {'course_id': ' CIV10', 'Quality': '5.0', 'Difficulty': '2.0', 'Textbook': 'Yes', 'Comment': 'Nichols is an amazing professor--managed to make a course often regarded as filler extremely interesting.  Nichols speaks animatedly and is willing to engage students in a fast-paced, firm, yet comedic manner.  Harder than other Civ sections, but well worth the added papers/readings and final.  Very accommodating.  You will enjoy this course.', 'professor': 'James Nichols ', 'department': 'Government department'}, {'course_id': ' CIV10', 'Quality': '5.0', 'Difficulty': '2.0', 'Textbook': 'Yes', 'Comment': 'Prof. Nichols is my favorite professor at CMC. He is so passionate about the subjects that we discuss and is always willing to discuss anything if you have questions. That being said, he is not as easy as most civ professors, but he really cares.', 'professor': 'James Nichols ', 'department': 'Government department'}, {'course_id': ' CIV10', 'Quality': '5.0', 'Difficulty': '3.0', 'Textbook': 'Yes', 'Comment': 'Nichols is the best civ prof period', 'professor': 'James Nichols ', 'department': 'Government department'}, {'course_id': ' GOV80', 'Quality': '4.0', 'Difficulty': '3.0', 'Attendance': 'Mandatory', 'Grade': 'A', 'Comment': \"Nichols may be a goofy bald man, but between the giggles and the chin rubbing, this might have been the most i've learned in any class.  interesting stuff too.\", 'professor': 'James Nichols ', 'department': 'Government department'}, {'course_id': ' CIV10', 'Quality': '4.5', 'Difficulty': '2.0', 'Comment': 'Unbelievable professor. Makes class a lot of fun and is an interesting professor. Not too bad looking either-and he likes the Dodgers', 'professor': 'James Nichols ', 'department': 'Government department'}, {'course_id': ' CIV10', 'Quality': '3.5', 'Difficulty': '3.0', 'Comment': 'Very goofy guy. During discussions he would stop for 2 SECONDS to see if we had any comments and launch into his own exposition. In retrospect the class was pretty easy and I got exactly what I thought I would get from Civ 10. Just enough.', 'professor': 'James Nichols ', 'department': 'Government department'}, {'course_id': ' CIV10', 'Quality': '1.0', 'Difficulty': '4.0', 'Comment': \"This guy may be smart but he's a loony-tune. Talks endlessly, never listens to a word edgewise, and acts out every nervous compulsive twitch in class while he's rambling.  Drove me right out of the room.\", 'professor': 'James Nichols ', 'department': 'Government department'}, {'course_id': ' CIV10GOV', 'Quality': '4.0', 'Difficulty': '3.0', 'Comment': \"I took two classes from him.  I did much better in the second one.  He talks on and on, the readings are dull, but the discussion is hot.  Don't be afraid to speak your mind and engage him.  He is one of the smartest profs. we've got.\", 'professor': 'James Nichols ', 'department': 'Government department'}, {'course_id': ' GOV80', 'Quality': '4.0', 'Difficulty': '4.0', 'Comment': 'gotta do the reading in this class and nichols is a talking head but he knows his stuff.  overall i got an A- and i think i aced the final cause i went back and made sure i read the sparknotes for each book, tho i read the real texts too', 'professor': 'James Nichols ', 'department': 'Government department'}, {'course_id': ' GOV166', 'Quality': '4.5', 'Difficulty': '3.0', 'Comment': 'Great Guy...somewhat goofy.  Really knows his stuff.  Also definitely the guy to take for Gov 80.', 'professor': 'James Nichols ', 'department': 'Government department'}, {'course_id': ' GOV20', 'Quality': '3.5', 'Difficulty': '2.0', 'Comment': 'Nice guy.  Understands and works with students.  Seems to like talking more than leading discussions.  Work load very reasonable.', 'professor': 'James Nichols ', 'department': 'Government department'}], [{'course_id': ' RLST118', 'Quality': '4.0', 'Difficulty': '4.0', 'For Credit': 'Yes', 'Attendance': 'Mandatory', 'Would Take Again': 'Yes', 'Textbook': 'No', 'Comment': \"Prof Humes is really knowledgeable, but her lectures aren't very clear and she often gets sidetracked. However, she's very willing to work with you outside of class. She allows little time for written exams, but she's flexible with deadlines if you just ask, and tries to thoroughly prepare students for such assignments, quizzes or research papers.\", 'professor': 'Cynthia Humes ', 'department': 'Religious Studies department'}, {'course_id': ' RLST010', 'Quality': '4.0', 'Difficulty': '4.0', 'For Credit': 'Yes', 'Attendance': 'Mandatory', 'Would Take Again': 'No', 'Textbook': 'Yes', 'Comment': \"Awesome lady who's very knowledgeable about the subject matter, but expects a lot of her students. As someone who took this course to fulfill a GE, I was disappointed by the amount of time it required. If you're genuinely interested in Religious Studies, you'll have a blast! If not, get ready to slog through a LOT of reading & detailed note-taking.\", 'professor': 'Cynthia Humes ', 'department': 'Religious Studies department'}, {'course_id': ' RLST010', 'Quality': '1.0', 'Difficulty': '5.0', 'For Credit': 'Yes', 'Textbook': 'Yes', 'Comment': 'Cynthia Humes is a brilliant woman but not the best teacher in the world. I have so much respect for her as a person, but her class was a struggle. ', 'professor': 'Cynthia Humes ', 'department': 'Religious Studies department'}, {'course_id': ' RLST010', 'Quality': '2.5', 'Difficulty': '4.0', 'For Credit': 'Yes', 'Textbook': 'Yes', 'Comment': 'Her lectures are extremely confusing and her tests are extremely long and she does not give enough time to write too many essay questions in too little time.', 'professor': 'Cynthia Humes ', 'department': 'Religious Studies department'}, {'course_id': ' FHS01', 'Quality': '3.0', 'Difficulty': '2.0', 'Textbook': 'Yes', 'Comment': 'Took her freshman class.  Very interesting. papers were the only grade and shes a fairly good grader.  I would take her if you have the chance.  work load is reasonable', 'professor': 'Cynthia Humes ', 'department': 'Religious Studies department'}, {'course_id': ' PHIL161', 'Quality': '5.0', 'Difficulty': '5.0', 'Textbook': 'Yes', 'Comment': \"Hard class, but I loved this class, real interesting. Prof Humes really cares about her students, even cooked great Indian food for us!! Only probem is she doesn't teach that often, and only teaches the same class when she does.\", 'professor': 'Cynthia Humes ', 'department': 'Religious Studies department'}, {'course_id': ' PHIL161', 'Quality': '4.0', 'Difficulty': '5.0', 'Textbook': 'Yes', 'Comment': 'Really smart, very helpful. Loved the class!!!', 'professor': 'Cynthia Humes ', 'department': 'Religious Studies department'}, {'course_id': ' RLST161', 'Quality': '3.0', 'Difficulty': '5.0', 'Textbook': 'Yes', 'Comment': 'Teaches an interesting course. Very knowledgeable, yet somewhat condescending. Erratic instructions and expectations. At times very friendly and others moody and snippy. If course material was not interesting her rating would be in the dumps.', 'professor': 'Cynthia Humes ', 'department': 'Religious Studies department'}, {'course_id': ' RELIGIOUS', 'Quality': '4.5', 'Difficulty': '1.0', 'Comment': 'Most students really like her.  She acts like she\\'s \"one of the gang\".', 'professor': 'Cynthia Humes ', 'department': 'Religious Studies department'}]]\n"
          ]
        }
      ]
    },
    {
      "cell_type": "markdown",
      "source": [
        "Create 3 different vectors to store comments, quality and difficulty fields from json and use pandas to create dataframe using all 3 vectors with different headers."
      ],
      "metadata": {
        "id": "pL3OZ-AZhSyV"
      }
    },
    {
      "cell_type": "code",
      "source": [
        "# Initialize lists to store extracted values\n",
        "comments = []\n",
        "quality = []\n",
        "difficulty = []\n",
        "\n",
        "# Extract values from each entry in data\n",
        "for sublist in data:\n",
        "    for entry in sublist:\n",
        "        comments.append(entry.get('Comment', ''))\n",
        "        quality.append(entry.get('Quality', ''))\n",
        "        difficulty.append(entry.get('Difficulty', ''))\n",
        "\n",
        "# Create a DataFrame from the extracted lists\n",
        "df_json_selected = pd.DataFrame({\n",
        "    'comments': comments,\n",
        "    'quality': quality,\n",
        "    'difficulty': difficulty\n",
        "})\n",
        "\n",
        "# Display the first few rows to verify the data\n",
        "print(df_json_selected.head())"
      ],
      "metadata": {
        "colab": {
          "base_uri": "https://localhost:8080/"
        },
        "id": "ImLsehlvA7jb",
        "outputId": "1380087f-698b-4911-abd0-aa677e256440"
      },
      "execution_count": null,
      "outputs": [
        {
          "output_type": "stream",
          "name": "stdout",
          "text": [
            "                                            comments quality difficulty\n",
            "0  Professor Nichols is super nice and very whole...     5.0        2.0\n",
            "1  Very chill class and teacher, very easy grader...     3.0        1.0\n",
            "2  Awesome, easy, knows literally everything abou...     4.0        1.0\n",
            "3  Prof. Nichols is a super nice and encouraging ...     5.0        2.0\n",
            "4  Good Professor. Really nice and encouraging te...     5.0        1.0\n"
          ]
        }
      ]
    },
    {
      "cell_type": "code",
      "source": [
        "# Test print of data to view columns in JSON data\n",
        "print(\"Columns in JSON dataframe:\")\n",
        "print(df_json_selected.columns)"
      ],
      "metadata": {
        "colab": {
          "base_uri": "https://localhost:8080/"
        },
        "id": "3qVwvH6rAd98",
        "outputId": "79caa5fd-8302-4e42-ccd1-9690393b6055"
      },
      "execution_count": null,
      "outputs": [
        {
          "output_type": "stream",
          "name": "stdout",
          "text": [
            "Columns in JSON dataframe:\n",
            "Index(['comments', 'quality', 'difficulty'], dtype='object')\n"
          ]
        }
      ]
    },
    {
      "cell_type": "markdown",
      "source": [
        "Select columns of interest from the JSON dataframe"
      ],
      "metadata": {
        "id": "EZdb0mN8hjtF"
      }
    },
    {
      "cell_type": "code",
      "source": [
        "# Select columns of interest from the JSON dataframe\n",
        "df_json_selected = df_json_selected[['comments', 'quality', 'difficulty']]"
      ],
      "metadata": {
        "id": "uAaPQGEO6kK6"
      },
      "execution_count": null,
      "outputs": []
    },
    {
      "cell_type": "markdown",
      "source": [
        "Select columns of interest from the RateMyProfessor CSV dataframe"
      ],
      "metadata": {
        "id": "tmPh2ifFhlZN"
      }
    },
    {
      "cell_type": "code",
      "source": [
        "# Select columns of interest from the RateMyProfessor CSV dataframe\n",
        "df_csv_selected = df_csv[['comments', 'student_star', 'student_difficult']]"
      ],
      "metadata": {
        "id": "OYwxr38I_vqN"
      },
      "execution_count": null,
      "outputs": []
    },
    {
      "cell_type": "markdown",
      "source": [
        "Combine the data into a single dataframe i.e combined_df"
      ],
      "metadata": {
        "id": "Gm4vD6I5ho8g"
      }
    },
    {
      "cell_type": "code",
      "source": [
        "# Combine the data into a single dataframe\n",
        "combined_df = pd.DataFrame()\n",
        "\n",
        "# Concatenate 'comments' columns from both datasets\n",
        "combined_df['comments'] = pd.concat([df_json_selected['comments'], df_csv_selected['comments']], ignore_index=True)\n",
        "\n",
        "# Combine 'quality' and 'student_star' into 'quality' column\n",
        "combined_df['quality'] = pd.concat([df_json_selected['quality'], df_csv_selected['student_star']], ignore_index=True)\n",
        "\n",
        "# Combine 'difficulty' and 'student_difficult' into 'difficulty' column\n",
        "combined_df['difficulty'] = pd.concat([df_json_selected['difficulty'], df_csv_selected['student_difficult']], ignore_index=True)\n",
        "\n",
        "# Display the combined dataframe\n",
        "print(combined_df)\n"
      ],
      "metadata": {
        "colab": {
          "base_uri": "https://localhost:8080/"
        },
        "id": "e2LrWFZaK-FH",
        "outputId": "48fe5a00-2f00-484a-d92b-f73cb779d793"
      },
      "execution_count": null,
      "outputs": [
        {
          "output_type": "stream",
          "name": "stdout",
          "text": [
            "                                                comments quality difficulty\n",
            "0      Professor Nichols is super nice and very whole...     5.0        2.0\n",
            "1      Very chill class and teacher, very easy grader...     3.0        1.0\n",
            "2      Awesome, easy, knows literally everything abou...     4.0        1.0\n",
            "3      Prof. Nichols is a super nice and encouraging ...     5.0        2.0\n",
            "4      Good Professor. Really nice and encouraging te...     5.0        1.0\n",
            "...                                                  ...     ...        ...\n",
            "23369   Great sense of humor!!!! Love parasites now!!!!!     1.5        5.0\n",
            "23370  he is a really nice guy and is really funny..h...     2.5        4.0\n",
            "23371  His parasitology class is a lot of work but he...     5.0        3.0\n",
            "23372  He is WAY too much work for a 1 credit class. ...     4.0        5.0\n",
            "23373  Extremely easy lab teacher, quizzes are a litt...     5.0        2.0\n",
            "\n",
            "[23374 rows x 3 columns]\n"
          ]
        }
      ]
    },
    {
      "cell_type": "markdown",
      "source": [
        "This part is optional. It's just creating output file to hold combined data from csv and json datasets."
      ],
      "metadata": {
        "id": "uJCanGTXhucd"
      }
    },
    {
      "cell_type": "code",
      "source": [
        "# Create output file to hold combined data from csv and json datasets\n",
        "output_file = '/content/drive/MyDrive/Colab Notebooks/combinedJsonCSV.csv'\n",
        "\n",
        "# Save to CSV\n",
        "combined_df.to_csv(output_file, index=False)"
      ],
      "metadata": {
        "id": "3ieYjjNr5TMC"
      },
      "execution_count": null,
      "outputs": []
    },
    {
      "cell_type": "markdown",
      "source": [
        "Original data points in csv are 20000 whereas after combining it with json, resultant data points are 23374."
      ],
      "metadata": {
        "id": "oxEKdQVZh2AA"
      }
    },
    {
      "cell_type": "code",
      "source": [
        "# Count number of rows in original RateMyProfessor CSV file\n",
        "original_rows = df_csv.shape[0]\n",
        "\n",
        "# Count number of rows in combined dataframe\n",
        "combined_rows = combined_df.shape[0]\n",
        "\n",
        "# Print row counts to compare amount of data added\n",
        "print(f\"Number of rows in original RateMyProfessor CSV file: {original_rows}\")\n",
        "print(f\"Number of rows in combined dataframe: {combined_rows}\")"
      ],
      "metadata": {
        "id": "nHZd4Xkr7w-Q",
        "colab": {
          "base_uri": "https://localhost:8080/"
        },
        "outputId": "fbc1fe1b-c53b-420f-c0fb-f7f0e9937c2c"
      },
      "execution_count": null,
      "outputs": [
        {
          "output_type": "stream",
          "name": "stdout",
          "text": [
            "Number of rows in original RateMyProfessor CSV file: 20000\n",
            "Number of rows in combined dataframe: 23374\n"
          ]
        }
      ]
    },
    {
      "cell_type": "code",
      "source": [
        "# Check headers\n",
        "print(\"Headers of the combined dataframe:\")\n",
        "print(combined_df.columns)"
      ],
      "metadata": {
        "id": "fbBITFHV76Uf",
        "colab": {
          "base_uri": "https://localhost:8080/"
        },
        "outputId": "5afcffa7-3ddf-4c83-f7ec-a9e97efd3112"
      },
      "execution_count": null,
      "outputs": [
        {
          "output_type": "stream",
          "name": "stdout",
          "text": [
            "Headers of the combined dataframe:\n",
            "Index(['comments', 'quality', 'difficulty'], dtype='object')\n"
          ]
        }
      ]
    },
    {
      "cell_type": "markdown",
      "source": [
        "This removes missing values from dataframe combined_df and store resulting data in new dataframe df."
      ],
      "metadata": {
        "id": "w-wh4G25iCTG"
      }
    },
    {
      "cell_type": "code",
      "source": [
        "# Remove missing values\n",
        "df = combined_df.dropna(subset=['comments', 'quality', 'difficulty'])"
      ],
      "metadata": {
        "id": "Nl-txADU7t0e"
      },
      "execution_count": null,
      "outputs": []
    },
    {
      "cell_type": "markdown",
      "metadata": {
        "id": "FR6rgDk4SMtP"
      },
      "source": [
        "Data preprocessing by applying contractions and removing punctuations from the text."
      ]
    },
    {
      "cell_type": "code",
      "source": [
        "import pandas as pd\n",
        "import contractions\n",
        "import re\n",
        "\n",
        "# Assuming you've already imported your data and created the DataFrame 'df'\n",
        "\n",
        "# Drop rows with NaN values in specified columns\n",
        "df = df.dropna(subset=['comments', 'quality', 'difficulty'])\n",
        "\n",
        "# Create a new column to store the comments before applying contractions\n",
        "df['comments_before'] = df['comments']\n",
        "\n",
        "# Expand contractions in the 'comments' column\n",
        "df['comments'] = df['comments'].apply(contractions.fix)\n",
        "\n",
        "# Lowercasing\n",
        "df['comments'] = df['comments'].str.lower()\n",
        "\n",
        "# Removing Punctuation and Special Characters\n",
        "df['comments'] = df['comments'].apply(lambda x: re.sub(r'[^\\w\\s-]', '', x))\n",
        "df['comments'] = df['comments'].apply(lambda x: x.replace('/', ' '))\n",
        "\n",
        "df['comments'] = df['comments'].apply(lambda x: re.sub(r'(\\w+)\\s?/\\s?(\\w+)', r'\\1 \\2', x))\n",
        "\n",
        "\n",
        "\n",
        "# Extract columns\n",
        "comments_before = df['comments_before'].values\n",
        "comments_after = df['comments'].values\n",
        "\n",
        "# Test print to show before & after preprocessing\n",
        "for i in range(10):\n",
        "    print(\"Before:\", comments_before[i])\n",
        "    print(\"After:\", comments_after[i])\n",
        "    print(\"-------------------------\")"
      ],
      "metadata": {
        "id": "z6BH7j7G7fq1",
        "colab": {
          "base_uri": "https://localhost:8080/"
        },
        "outputId": "a99b5cc2-cd02-4ffe-f57a-f66061dc643d"
      },
      "execution_count": null,
      "outputs": [
        {
          "output_type": "stream",
          "name": "stdout",
          "text": [
            "Before: Professor Nichols is super nice and very wholesome! There is a lot of reading, but you can get by without doing very much of it. He does talk a LOT and doesn't foster as much discussion, but I think the latter might also be because people stop doing the readings a few weeks in. He does appreciate participation and gives great essay feedback!\n",
            "After: professor nichols is super nice and very wholesome there is a lot of reading but you can get by without doing very much of it he does talk a lot and does not foster as much discussion but i think the latter might also be because people stop doing the readings a few weeks in he does appreciate participation and gives great essay feedback\n",
            "-------------------------\n",
            "Before: Very chill class and teacher, very easy grader, but talks for most of the class and does not really foster discussion.\n",
            "After: very chill class and teacher very easy grader but talks for most of the class and does not really foster discussion\n",
            "-------------------------\n",
            "Before: Awesome, easy, knows literally everything about his subject it is crazy!\n",
            "After: awesome easy knows literally everything about his subject it is crazy\n",
            "-------------------------\n",
            "Before: Prof. Nichols is a super nice and encouraging man. And most importantly, he is extremely knowledgeable and you will learn a great deal from him. The class is pretty easy 'cause he's an easy grader. He takes rolls at the beginning of the semester but you will be fine if you don't go to this class from time to time. Highly recommend!\n",
            "After: prof nichols is a super nice and encouraging man and most importantly he is extremely knowledgeable and you will learn a great deal from him the class is pretty easy because he is an easy grader he takes rolls at the beginning of the semester but you will be fine if you do not go to this class from time to time highly recommend\n",
            "-------------------------\n",
            "Before: Good Professor. Really nice and encouraging teacher. Class moves along at an enjoyable but swift pace.\n",
            "After: good professor really nice and encouraging teacher class moves along at an enjoyable but swift pace\n",
            "-------------------------\n",
            "Before: Not very difficult and the reading is not very difficult. He knows his stuff.\n",
            "After: not very difficult and the reading is not very difficult he knows his stuff\n",
            "-------------------------\n",
            "Before: If you aren't looking forward to taking Civ, take nichols. He doesn't hold you responsible for the reading and he is an easy grader. The assessments are reasonable and infrequent. The class is pretty boring, but it is important to go. Just regurgitate the lectures in your papers with a little extra insight and you'll do really well.\n",
            "After: if you are not looking forward to taking civ take nichols he does not hold you responsible for the reading and he is an easy grader the assessments are reasonable and infrequent the class is pretty boring but it is important to go just regurgitate the lectures in your papers with a little extra insight and you will do really well\n",
            "-------------------------\n",
            "Before: Smart guy. Is obviously interested in the books he chose and knows alot about them. If yo don't do the reading, you can get by. It's more interesting if you do though. Was on friday at 10 which was less than ideal, but a pretty good teacher. Papers were really easy. Just pay attention in class, and expand his ideas.\n",
            "After: smart guy is obviously interested in the books he chose and knows alot about them if yo do not do the reading you can get by it is more interesting if you do though was on friday at 10 which was less than ideal but a pretty good teacher papers were really easy just pay attention in class and expand his ideas\n",
            "-------------------------\n",
            "Before: If you don't like the idea of having to take Civ, then Nichols is the guy for you. Discussions are more like lectures, so he doesn't hold people responsible for the reading. He grades papers generously and there aren't very many of them. You won't have fun, but it won't be that  much work and you'll do decently.\n",
            "After: if you do not like the idea of having to take civ then nichols is the guy for you discussions are more like lectures so he does not hold people responsible for the reading he grades papers generously and there are not very many of them you will not have fun but it will not be that  much work and you will do decently\n",
            "-------------------------\n",
            "Before: Nichols is an amazing professor--managed to make a course often regarded as filler extremely interesting.  Nichols speaks animatedly and is willing to engage students in a fast-paced, firm, yet comedic manner.  Harder than other Civ sections, but well worth the added papers/readings and final.  Very accommodating.  You will enjoy this course.\n",
            "After: nichols is an amazing professor--managed to make a course often regarded as filler extremely interesting  nichols speaks animatedly and is willing to engage students in a fast-paced firm yet comedic manner  harder than other civ sections but well worth the added papersreadings and final  very accommodating  you will enjoy this course\n",
            "-------------------------\n"
          ]
        }
      ]
    },
    {
      "cell_type": "markdown",
      "source": [
        "Here we are creating 3 different variables to hold comments, quality and difficulty data from text, so that we don't have to write df[variable_name] everytime we need to use this."
      ],
      "metadata": {
        "id": "r5AROATWidEL"
      }
    },
    {
      "cell_type": "code",
      "execution_count": null,
      "metadata": {
        "id": "c1oKYTiNSNzv"
      },
      "outputs": [],
      "source": [
        "# Create variables to hold values\n",
        "comments = df['comments'].values\n",
        "quality_labels = df['quality'].values\n",
        "difficulty_labels = df['difficulty'].values"
      ]
    },
    {
      "cell_type": "markdown",
      "source": [
        "This part is to check what all unique labels are there in quality and difficulty label columns."
      ],
      "metadata": {
        "id": "UFT8S0ZLitjB"
      }
    },
    {
      "cell_type": "code",
      "execution_count": null,
      "metadata": {
        "colab": {
          "base_uri": "https://localhost:8080/"
        },
        "id": "yatq99BpW22E",
        "outputId": "a90f2515-ec59-4822-fca9-b5ea20faf6d3"
      },
      "outputs": [
        {
          "output_type": "stream",
          "name": "stdout",
          "text": [
            "Number of unique quality labels: 9\n",
            "Unique quality labels: [1.  1.5 2.  2.5 3.  3.5 4.  4.5 5. ]\n",
            "Number of unique difficulty labels: 5\n",
            "Unique difficulty labels: [1. 2. 3. 4. 5.]\n"
          ]
        }
      ],
      "source": [
        "import numpy as np\n",
        "quality_labels = quality_labels.astype(float)\n",
        "difficulty_labels = difficulty_labels.astype(float)\n",
        "\n",
        "# Get unique quality labels\n",
        "unique_quality_labels = np.unique(quality_labels[~np.isnan(quality_labels)])\n",
        "\n",
        "# Get unique difficulty labels\n",
        "unique_difficulty_labels = np.unique(difficulty_labels[~np.isnan(difficulty_labels)])\n",
        "\n",
        "# Count number of unique quality labels\n",
        "num_unique_quality_labels = len(unique_quality_labels)\n",
        "\n",
        "# Count number of unique difficulty labels\n",
        "num_unique_difficulty_labels = len(unique_difficulty_labels)\n",
        "\n",
        "# Print label counts for quality and difficulty\n",
        "print(\"Number of unique quality labels:\", num_unique_quality_labels)\n",
        "print(\"Unique quality labels:\", unique_quality_labels)\n",
        "\n",
        "print(\"Number of unique difficulty labels:\", num_unique_difficulty_labels)\n",
        "print(\"Unique difficulty labels:\", unique_difficulty_labels)"
      ]
    },
    {
      "cell_type": "markdown",
      "source": [
        "These thresholds divide the continuous range of label values into intervals. Each interval corresponds to a specific class.\n",
        "For example, the quality thresholds [0, 2.5, 3.5, 5] define the following intervals:\n",
        "[0, 2.5)\n",
        "[2.5, 3.5)\n",
        "[3.5, 5)\n",
        "Similarly, the difficulty thresholds [0, 2, 3, 5] define these intervals:\n",
        "[0, 2)\n",
        "[2, 3)\n",
        "[3, 5)\n",
        "\n",
        "The np.digitize function assigns each label to a class based on which interval (defined by the thresholds) the label falls into.\n",
        "np.digitize returns the index of the bin each label belongs to. Subtracting 1 adjusts the class indices to start from 0.\n",
        "For example, if a quality label is 3, np.digitize with the given quality_thresholds would return 2 (since 3 falls into the second interval [2.5, 3.5)). Subtracting 1 gives the class label 1.\n",
        "\n",
        "We are doing this so that model can learn faster and better. We can remmeber small things faster, so do the model."
      ],
      "metadata": {
        "id": "Ix2IadJ8i0kc"
      }
    },
    {
      "cell_type": "code",
      "execution_count": null,
      "metadata": {
        "id": "L7WAlPXaXGkG"
      },
      "outputs": [],
      "source": [
        "# Define classification thresholds for quality labels\n",
        "quality_thresholds = [0, 2.5, 3.5, 5]\n",
        "\n",
        "# Define classification thresholds for difficulty labels\n",
        "difficulty_thresholds = [0, 2, 3, 5]\n",
        "\n",
        "# Convert labels to classes\n",
        "quality_classes = np.digitize(quality_labels, bins=quality_thresholds) - 1\n",
        "difficulty_classes = np.digitize(difficulty_labels, bins=difficulty_thresholds) - 1"
      ]
    },
    {
      "cell_type": "markdown",
      "source": [
        "This is just to confirm the resultant labels for quality and difficulty label columns."
      ],
      "metadata": {
        "id": "jOY1jnRCjjaI"
      }
    },
    {
      "cell_type": "code",
      "source": [
        "# Get unique quality labels\n",
        "unique_quality_labels = np.unique(quality_classes[~np.isnan(quality_classes)])\n",
        "\n",
        "# Get unique difficulty labels\n",
        "unique_difficulty_labels = np.unique(difficulty_classes[~np.isnan(difficulty_classes)])\n",
        "\n",
        "# Test print\n",
        "print(unique_quality_labels)\n",
        "\n",
        "print(unique_difficulty_labels)"
      ],
      "metadata": {
        "colab": {
          "base_uri": "https://localhost:8080/"
        },
        "id": "2EruF9be7Wqx",
        "outputId": "65d40305-958c-4f10-c69a-e00bb26a6067"
      },
      "execution_count": null,
      "outputs": [
        {
          "output_type": "stream",
          "name": "stdout",
          "text": [
            "[0 1 2 3]\n",
            "[0 1 2 3]\n"
          ]
        }
      ]
    },
    {
      "cell_type": "markdown",
      "metadata": {
        "id": "690mU0mTSQ_7"
      },
      "source": [
        "Tokenization"
      ]
    },
    {
      "cell_type": "markdown",
      "source": [
        "Here we are creating tokens from the text."
      ],
      "metadata": {
        "id": "fCNKG4vtjqq5"
      }
    },
    {
      "cell_type": "code",
      "execution_count": null,
      "metadata": {
        "id": "CJzH7XqzXA_S"
      },
      "outputs": [],
      "source": [
        "tokenizer = Tokenizer(num_words=10000)\n",
        "tokenizer.fit_on_texts(df['comments'].values)\n",
        "sequences = tokenizer.texts_to_sequences(df['comments'].values)\n",
        "maxlen = 100  # Assuming a maximum sequence length of 100\n",
        "data = pad_sequences(sequences, maxlen=maxlen)"
      ]
    },
    {
      "cell_type": "markdown",
      "metadata": {
        "id": "At7V-EwYTT93"
      },
      "source": [
        "Split the dataset with a test size of 20% and train size of 80%"
      ]
    },
    {
      "cell_type": "code",
      "execution_count": null,
      "metadata": {
        "id": "XNGIx5JbTbV3"
      },
      "outputs": [],
      "source": [
        "# Train-Test split\n",
        "x_train, x_test, y_train_quality, y_test_quality, y_train_difficulty, y_test_difficulty = train_test_split(\n",
        "    data, quality_classes, difficulty_classes, test_size=0.2, random_state=42)"
      ]
    },
    {
      "cell_type": "code",
      "source": [
        "print(x_train.shape)\n",
        "print(y_train_quality.shape)\n",
        "print(x_test.shape)\n",
        "print(y_test_quality.shape)"
      ],
      "metadata": {
        "colab": {
          "base_uri": "https://localhost:8080/"
        },
        "id": "YO0hB-cqRhEG",
        "outputId": "69e728bc-874e-47bb-e539-5012ba614679"
      },
      "execution_count": null,
      "outputs": [
        {
          "output_type": "stream",
          "name": "stdout",
          "text": [
            "(18693, 100)\n",
            "(18693,)\n",
            "(4674, 100)\n",
            "(4674,)\n"
          ]
        }
      ]
    },
    {
      "cell_type": "markdown",
      "metadata": {
        "id": "n3B_wEmiTeOT"
      },
      "source": [
        "Create embedding matrix"
      ]
    },
    {
      "cell_type": "code",
      "execution_count": null,
      "metadata": {
        "id": "9HcnrvadTvzZ"
      },
      "outputs": [],
      "source": [
        "embeddings_index = {}\n",
        "with open('/content/drive/MyDrive/Colab Notebooks/glove/glove.6B.300d.txt', encoding='utf-8') as f:\n",
        "    next(f)  # Skip the header line\n",
        "    for line in f:\n",
        "        values = line.split()\n",
        "        word = values[0]\n",
        "        if len(values) > 1:\n",
        "            coefs = np.asarray(values[1:], dtype='float32')\n",
        "            embeddings_index[word] = coefs\n",
        "\n",
        "# Create an embedding matrix\n",
        "word_index = tokenizer.word_index\n",
        "embedding_dim = 300\n",
        "embedding_matrix = np.zeros((len(word_index) + 1, embedding_dim))\n",
        "for word, i in word_index.items():\n",
        "    embedding_vector = embeddings_index.get(word)\n",
        "    if embedding_vector is not None:\n",
        "        # Words not found in embedding index will be all-zeros.\n",
        "        embedding_matrix[i] = embedding_vector"
      ]
    },
    {
      "cell_type": "markdown",
      "source": [
        "## RNN"
      ],
      "metadata": {
        "id": "VYIxE6M6RBua"
      }
    },
    {
      "cell_type": "markdown",
      "source": [
        "### Regression"
      ],
      "metadata": {
        "id": "Zbll9vv5RHfw"
      }
    },
    {
      "cell_type": "markdown",
      "metadata": {
        "id": "-JT4y88PTxqu"
      },
      "source": [
        "Define the RNN model architecture for quality prediction, includes compiling, training and evaulation based of 10 epochs with a batch size of 32."
      ]
    },
    {
      "cell_type": "markdown",
      "source": [
        "#### Quality Prediction\n",
        "\n",
        "Here we have used validation mean square error as early stopping mechanism to stop training early if the validation mean square error does not improve for a certain number of epochs.\n",
        "\n",
        "An Embedding layer is added with pre-trained weights from embedding_matrix to convert input sequences into dense vectors.\n",
        "The embedding layer uses len(word_index) + 1 as the input dimension and embedding_dim as the output dimension.\n",
        "\n",
        "input_length=maxlen defines the maximum length of input sequences.\n",
        "\n",
        "trainable=False ensures that the pre-trained embeddings are not updated during training.\n",
        "\n",
        "A Bidirectional LSTM layer with 64 units is added to capture temporal dependencies in the data from both directions.\n",
        "\n",
        "A Dense layer with a single neuron and linear activation is added for regression output.\n"
      ],
      "metadata": {
        "id": "oniVlV2Y_rQw"
      }
    },
    {
      "cell_type": "markdown",
      "source": [
        "##### Interpretation of the Result from Epochs\n",
        "\n",
        "Quality Prediction MAE: The value 0.5824604034423828 indicates that, on average, the model's predictions for quality labels deviate from the actual values by approximately 0.58 units (on the scale of the quality labels)."
      ],
      "metadata": {
        "id": "a5YWLJVNthHD"
      }
    },
    {
      "cell_type": "code",
      "execution_count": null,
      "metadata": {
        "colab": {
          "base_uri": "https://localhost:8080/"
        },
        "id": "4ISVY-coUEKm",
        "outputId": "df734c4e-4ff3-48b9-d2d5-76ead3184b96"
      },
      "outputs": [
        {
          "output_type": "stream",
          "name": "stdout",
          "text": [
            "Epoch 1/50\n",
            "585/585 [==============================] - ETA: 0s - loss: 0.9108 - mae: 0.7774\n",
            "Epoch 1: val_mae improved from inf to 0.63740, saving model to quality_model_aug_reg_checkpoint.h5\n",
            "585/585 [==============================] - 17s 18ms/step - loss: 0.9108 - mae: 0.7774 - val_loss: 0.6834 - val_mae: 0.6374\n",
            "Epoch 2/50\n",
            "  1/585 [..............................] - ETA: 9s - loss: 0.6417 - mae: 0.6333"
          ]
        },
        {
          "output_type": "stream",
          "name": "stderr",
          "text": [
            "/usr/local/lib/python3.10/dist-packages/keras/src/engine/training.py:3103: UserWarning: You are saving your model as an HDF5 file via `model.save()`. This file format is considered legacy. We recommend using instead the native Keras format, e.g. `model.save('my_model.keras')`.\n",
            "  saving_api.save_model(\n"
          ]
        },
        {
          "output_type": "stream",
          "name": "stdout",
          "text": [
            "582/585 [============================>.] - ETA: 0s - loss: 0.6427 - mae: 0.6346\n",
            "Epoch 2: val_mae did not improve from 0.63740\n",
            "585/585 [==============================] - 9s 15ms/step - loss: 0.6429 - mae: 0.6346 - val_loss: 0.6717 - val_mae: 0.6416\n",
            "Epoch 3/50\n",
            "581/585 [============================>.] - ETA: 0s - loss: 0.5811 - mae: 0.6012\n",
            "Epoch 3: val_mae improved from 0.63740 to 0.60053, saving model to quality_model_aug_reg_checkpoint.h5\n",
            "585/585 [==============================] - 8s 13ms/step - loss: 0.5812 - mae: 0.6011 - val_loss: 0.5957 - val_mae: 0.6005\n",
            "Epoch 4/50\n",
            "585/585 [==============================] - ETA: 0s - loss: 0.5376 - mae: 0.5738\n",
            "Epoch 4: val_mae did not improve from 0.60053\n",
            "585/585 [==============================] - 9s 15ms/step - loss: 0.5376 - mae: 0.5738 - val_loss: 0.5822 - val_mae: 0.6029\n",
            "Epoch 5/50\n",
            "582/585 [============================>.] - ETA: 0s - loss: 0.5047 - mae: 0.5541\n",
            "Epoch 5: val_mae did not improve from 0.60053\n",
            "585/585 [==============================] - 8s 13ms/step - loss: 0.5046 - mae: 0.5542 - val_loss: 0.5999 - val_mae: 0.6062\n",
            "Epoch 6/50\n",
            "582/585 [============================>.] - ETA: 0s - loss: 0.4695 - mae: 0.5340\n",
            "Epoch 6: val_mae improved from 0.60053 to 0.59411, saving model to quality_model_aug_reg_checkpoint.h5\n",
            "585/585 [==============================] - 9s 16ms/step - loss: 0.4696 - mae: 0.5340 - val_loss: 0.6082 - val_mae: 0.5941\n",
            "Epoch 7/50\n",
            "584/585 [============================>.] - ETA: 0s - loss: 0.4393 - mae: 0.5140\n",
            "Epoch 7: val_mae improved from 0.59411 to 0.58364, saving model to quality_model_aug_reg_checkpoint.h5\n",
            "585/585 [==============================] - 8s 13ms/step - loss: 0.4394 - mae: 0.5140 - val_loss: 0.5746 - val_mae: 0.5836\n",
            "Epoch 8/50\n",
            "584/585 [============================>.] - ETA: 0s - loss: 0.4066 - mae: 0.4936\n",
            "Epoch 8: val_mae improved from 0.58364 to 0.58246, saving model to quality_model_aug_reg_checkpoint.h5\n",
            "585/585 [==============================] - 8s 14ms/step - loss: 0.4066 - mae: 0.4936 - val_loss: 0.5782 - val_mae: 0.5825\n",
            "Epoch 9/50\n",
            "583/585 [============================>.] - ETA: 0s - loss: 0.3804 - mae: 0.4768\n",
            "Epoch 9: val_mae did not improve from 0.58246\n",
            "585/585 [==============================] - 7s 12ms/step - loss: 0.3802 - mae: 0.4767 - val_loss: 0.6001 - val_mae: 0.5839\n",
            "Epoch 10/50\n",
            "585/585 [==============================] - ETA: 0s - loss: 0.3532 - mae: 0.4559\n",
            "Epoch 10: val_mae did not improve from 0.58246\n",
            "585/585 [==============================] - 9s 15ms/step - loss: 0.3532 - mae: 0.4559 - val_loss: 0.6182 - val_mae: 0.6034\n",
            "Epoch 11/50\n",
            "584/585 [============================>.] - ETA: 0s - loss: 0.3261 - mae: 0.4354\n",
            "Epoch 11: val_mae did not improve from 0.58246\n",
            "585/585 [==============================] - 7s 12ms/step - loss: 0.3260 - mae: 0.4354 - val_loss: 0.6000 - val_mae: 0.6043\n",
            "Epoch 12/50\n",
            "581/585 [============================>.] - ETA: 0s - loss: 0.3027 - mae: 0.4175\n",
            "Epoch 12: val_mae did not improve from 0.58246\n",
            "585/585 [==============================] - 8s 14ms/step - loss: 0.3024 - mae: 0.4173 - val_loss: 0.6044 - val_mae: 0.5914\n",
            "Epoch 13/50\n",
            "583/585 [============================>.] - ETA: 0s - loss: 0.2829 - mae: 0.4015\n",
            "Epoch 13: val_mae did not improve from 0.58246\n",
            "Restoring model weights from the end of the best epoch: 8.\n",
            "585/585 [==============================] - 7s 12ms/step - loss: 0.2828 - mae: 0.4014 - val_loss: 0.6302 - val_mae: 0.6025\n",
            "Epoch 13: early stopping\n",
            "147/147 [==============================] - 1s 6ms/step - loss: 0.5782 - mae: 0.5825\n",
            "quality prediction: 0.5824604034423828\n"
          ]
        }
      ],
      "source": [
        "from keras.callbacks import ModelCheckpoint, EarlyStopping\n",
        "\n",
        "# Define a callback to save the best model during training\n",
        "checkpoint_path = \"quality_model_aug_reg_checkpoint.h5\"\n",
        "checkpoint = ModelCheckpoint(checkpoint_path, monitor='val_mae', verbose=1, save_best_only=True, mode='min')\n",
        "\n",
        "# Define early stopping callback\n",
        "early_stopping = EarlyStopping(monitor='val_mae', patience=5, verbose=1, mode='min', restore_best_weights=True)\n",
        "\n",
        "# Create model\n",
        "quality_model = Sequential()\n",
        "quality_model.add(Embedding(len(word_index) + 1, embedding_dim, weights=[embedding_matrix],\n",
        "                            input_length=maxlen, trainable=False))\n",
        "quality_model.add(Bidirectional(LSTM(64)))\n",
        "quality_model.add(Dense(1, activation='linear'))\n",
        "\n",
        "# Compile the quality model\n",
        "quality_model.compile(optimizer='adam', loss='mean_squared_error', metrics=['mae'])\n",
        "\n",
        "# Train the quality model\n",
        "history = quality_model.fit(x_train, y_train_quality, epochs=50, batch_size=32, validation_data=(x_test, y_test_quality), callbacks=[checkpoint, early_stopping])\n",
        "\n",
        "# Evaluate the quality model\n",
        "quality_loss, quality_mae = quality_model.evaluate(x_test, y_test_quality)\n",
        "print(\"quality prediction:\", quality_mae)"
      ]
    },
    {
      "cell_type": "markdown",
      "source": [
        "##### Graph Results"
      ],
      "metadata": {
        "id": "xcuwgTcCNB-T"
      }
    },
    {
      "cell_type": "markdown",
      "source": [
        "Plot training results"
      ],
      "metadata": {
        "id": "sSv4d2mNZgeo"
      }
    },
    {
      "cell_type": "code",
      "source": [
        "# Verify keys available for history to display\n",
        "print(history.history.keys())"
      ],
      "metadata": {
        "colab": {
          "base_uri": "https://localhost:8080/"
        },
        "id": "E4ICkY1nSAl6",
        "outputId": "f0d38b0d-14fc-475b-db45-d714bb3313ca"
      },
      "execution_count": null,
      "outputs": [
        {
          "output_type": "stream",
          "name": "stdout",
          "text": [
            "dict_keys(['loss', 'mae', 'val_loss', 'val_mae'])\n"
          ]
        }
      ]
    },
    {
      "cell_type": "markdown",
      "source": [
        "Visualizing the training and validation loss of the model over the training epochs.\n",
        "\n",
        "The training and validation loss plot reveals important insights into the model's performance over the epochs:\n",
        "\n",
        "Training Loss: The training loss consistently decreases with each epoch, indicating that the model is learning from the training data and improving its fit.\n",
        "\n",
        "Validation Loss: The validation loss initially decreases, suggesting that the model is generalizing well to unseen data. However, after a certain point, the validation loss starts to increase, which is a clear sign of overfitting. This means that the model is starting to memorize the training data rather than learning to generalize from it.\n",
        "\n",
        "Despite the overfitting observed, the training process was effectively managed by the early stopping mechanism. Early stopping halted the training after the validation loss did not improve for 5 consecutive epochs, preventing further overfitting and saving the best model observed during the training process."
      ],
      "metadata": {
        "id": "3qBw9rs6mAQ5"
      }
    },
    {
      "cell_type": "code",
      "source": [
        "# Plot loss\n",
        "import matplotlib.pyplot as plt\n",
        "\n",
        "history_dict = history.history\n",
        "loss = history_dict['loss']\n",
        "val_loss = history_dict['val_loss']\n",
        "epochs = range(1, len(loss) + 1)\n",
        "\n",
        "plt.figure(figsize=(16, 5))\n",
        "\n",
        "plt.subplot(1, 2, 1)\n",
        "plt.plot(epochs, loss, 'bo-', label='Training loss')\n",
        "plt.plot(epochs, val_loss, 'r-', label='Validation loss')\n",
        "plt.title('Loss during training')\n",
        "plt.xlabel('Epochs')\n",
        "plt.ylabel('Loss')\n",
        "plt.legend()\n",
        "\n",
        "plt.show()"
      ],
      "metadata": {
        "colab": {
          "base_uri": "https://localhost:8080/",
          "height": 487
        },
        "id": "1CRvH_pbNAH4",
        "outputId": "baa2d975-dc8b-4497-bb9d-96800cb3af84"
      },
      "execution_count": null,
      "outputs": [
        {
          "output_type": "display_data",
          "data": {
            "text/plain": [
              "<Figure size 1600x500 with 1 Axes>"
            ],
            "image/png": "[encoded data removed]"
          },
          "metadata": {}
        }
      ]
    },
    {
      "cell_type": "markdown",
      "source": [
        "This code is plotting the Mean Absolute Error (MAE) for both the training and validation sets over the epochs of the training process.\n",
        "\n",
        "The plot of Mean Absolute Error (MAE) during training provides insights into the model's performance over the epochs:\n",
        "\n",
        "**Training MAE**: The training MAE consistently decreases with each epoch, indicating that the model is effectively learning and reducing errors on the training data.\n",
        "\n",
        "**Validation MAE**: The validation MAE shows a more complex behavior. Initially, it decreases, suggesting that the model is improving its generalization to the validation data. However, after a few epochs, the validation MAE starts to fluctuate, increasing for some epochs and then decreasing again. This fluctuation continues for several epochs. Eventually, the validation MAE stabilizes and becomes close to constant, indicating that the model's performance on the validation data is no longer significantly improving or deteriorating.\n",
        "\n",
        "This pattern suggests that while the model is learning, it experiences periods of instability in its performance on the validation set, likely due to the inherent variability in the validation data. However, the overall trend towards stabilization is a positive sign, indicating that the model has reached a point where its performance is relatively steady."
      ],
      "metadata": {
        "id": "r4HjOQyonFQB"
      }
    },
    {
      "cell_type": "code",
      "source": [
        "# Plot MAE\n",
        "mae = history_dict['mae']\n",
        "val_mae = history_dict['val_mae']\n",
        "\n",
        "plt.figure(figsize=(12, 6))\n",
        "\n",
        "plt.subplot(1, 2, 1)\n",
        "plt.plot(epochs, loss, 'bo-', label='MAE')\n",
        "plt.plot(epochs, val_mae, 'r-', label='Validation MAE')\n",
        "plt.title('MAE during training')\n",
        "plt.xlabel('Epochs')\n",
        "plt.ylabel('MAE')\n",
        "plt.legend()\n",
        "\n",
        "plt.show()"
      ],
      "metadata": {
        "colab": {
          "base_uri": "https://localhost:8080/",
          "height": 564
        },
        "id": "-BH-igSwPVEQ",
        "outputId": "f55fc6c5-2655-484b-ce47-0a5d0fd9726c"
      },
      "execution_count": null,
      "outputs": [
        {
          "output_type": "display_data",
          "data": {
            "text/plain": [
              "<Figure size 1200x600 with 1 Axes>"
            ],
            "image/png": "[encoded data removed]"
          },
          "metadata": {}
        }
      ]
    },
    {
      "cell_type": "markdown",
      "source": [
        "#### Difficulty Prediction"
      ],
      "metadata": {
        "id": "stvV_bw6_1rW"
      }
    },
    {
      "cell_type": "markdown",
      "source": [
        "##### Interpretation of the Result from Epochs\n",
        "\n",
        "Difficult Prediction MAE: The value 0.6287729740142822 indicates that, on average, the model's predictions for difficulty labels deviate from the actual values by approximately 0.63 units (on the scale of the difficulty labels)."
      ],
      "metadata": {
        "id": "JZl8rRsZttd4"
      }
    },
    {
      "cell_type": "markdown",
      "metadata": {
        "id": "KLH3ooWoUSIS"
      },
      "source": [
        "Run the same as above but now for difficulty predictions"
      ]
    },
    {
      "cell_type": "code",
      "source": [
        "from keras.callbacks import ModelCheckpoint, EarlyStopping\n",
        "\n",
        "# Define a callback to save the best model during training\n",
        "checkpoint_path = \"difficulty_model_aug_reg_checkpoint.h5\"\n",
        "checkpoint = ModelCheckpoint(checkpoint_path, monitor='val_mae', verbose=1, save_best_only=True, mode='min')\n",
        "\n",
        "# Define early stopping callback\n",
        "early_stopping = EarlyStopping(monitor='val_mae', patience=5, verbose=1, mode='min', restore_best_weights=True)\n",
        "\n",
        "# Build the difficulty model\n",
        "difficulty_model = Sequential()\n",
        "difficulty_model.add(Embedding(len(word_index) + 1, embedding_dim, weights=[embedding_matrix],\n",
        "                            input_length=maxlen, trainable=False))\n",
        "difficulty_model.add(Bidirectional(LSTM(64)))\n",
        "difficulty_model.add(Dense(1, activation='linear'))  # Output 4 classes for sentiment classification\n",
        "\n",
        "# Compile the difficulty model\n",
        "difficulty_model.compile(optimizer='adam', loss='mean_squared_error', metrics=['mae'])\n",
        "\n",
        "# Train the difficulty model with checkpoint and early stopping callbacks\n",
        "history = difficulty_model.fit(x_train, y_train_difficulty, epochs=50, batch_size=32, validation_data=(x_test, y_test_difficulty), callbacks=[checkpoint, early_stopping])\n",
        "\n",
        "# Evaluate the difficulty model\n",
        "difficulty_loss, difficulty_prediction = difficulty_model.evaluate(x_test, y_test_difficulty)\n",
        "print(\"difficulty prediction:\", difficulty_prediction)"
      ],
      "metadata": {
        "colab": {
          "base_uri": "https://localhost:8080/"
        },
        "id": "UWYtBJL0lPkI",
        "outputId": "5c20251a-b2f6-41af-e779-3ce1e4421927"
      },
      "execution_count": null,
      "outputs": [
        {
          "output_type": "stream",
          "name": "stdout",
          "text": [
            "Epoch 1/50\n",
            "581/585 [============================>.] - ETA: 0s - loss: 0.8265 - mae: 0.7381\n",
            "Epoch 1: val_mae improved from inf to 0.70265, saving model to difficulty_model_aug_reg_checkpoint.h5\n",
            "585/585 [==============================] - 13s 15ms/step - loss: 0.8254 - mae: 0.7376 - val_loss: 0.7107 - val_mae: 0.7027\n",
            "Epoch 2/50\n",
            "583/585 [============================>.] - ETA: 0s - loss: 0.6855 - mae: 0.6664\n",
            "Epoch 2: val_mae improved from 0.70265 to 0.65321, saving model to difficulty_model_aug_reg_checkpoint.h5\n",
            "585/585 [==============================] - 8s 13ms/step - loss: 0.6853 - mae: 0.6662 - val_loss: 0.6535 - val_mae: 0.6532\n",
            "Epoch 3/50\n",
            "583/585 [============================>.] - ETA: 0s - loss: 0.6438 - mae: 0.6435\n",
            "Epoch 3: val_mae improved from 0.65321 to 0.63485, saving model to difficulty_model_aug_reg_checkpoint.h5\n",
            "585/585 [==============================] - 10s 17ms/step - loss: 0.6442 - mae: 0.6437 - val_loss: 0.6448 - val_mae: 0.6349\n",
            "Epoch 4/50\n",
            "584/585 [============================>.] - ETA: 0s - loss: 0.6124 - mae: 0.6258\n",
            "Epoch 4: val_mae did not improve from 0.63485\n",
            "585/585 [==============================] - 8s 13ms/step - loss: 0.6124 - mae: 0.6258 - val_loss: 0.6391 - val_mae: 0.6402\n",
            "Epoch 5/50\n",
            "581/585 [============================>.] - ETA: 0s - loss: 0.5857 - mae: 0.6102\n",
            "Epoch 5: val_mae improved from 0.63485 to 0.62877, saving model to difficulty_model_aug_reg_checkpoint.h5\n",
            "585/585 [==============================] - 8s 13ms/step - loss: 0.5853 - mae: 0.6098 - val_loss: 0.6317 - val_mae: 0.6288\n",
            "Epoch 6/50\n",
            "583/585 [============================>.] - ETA: 0s - loss: 0.5559 - mae: 0.5928\n",
            "Epoch 6: val_mae did not improve from 0.62877\n",
            "585/585 [==============================] - 7s 13ms/step - loss: 0.5558 - mae: 0.5928 - val_loss: 0.6497 - val_mae: 0.6462\n",
            "Epoch 7/50\n",
            "585/585 [==============================] - ETA: 0s - loss: 0.5222 - mae: 0.5733\n",
            "Epoch 7: val_mae did not improve from 0.62877\n",
            "585/585 [==============================] - 8s 14ms/step - loss: 0.5222 - mae: 0.5733 - val_loss: 0.6534 - val_mae: 0.6527\n",
            "Epoch 8/50\n",
            "585/585 [==============================] - ETA: 0s - loss: 0.4858 - mae: 0.5509\n",
            "Epoch 8: val_mae did not improve from 0.62877\n",
            "585/585 [==============================] - 8s 13ms/step - loss: 0.4858 - mae: 0.5509 - val_loss: 0.6626 - val_mae: 0.6498\n",
            "Epoch 9/50\n",
            "581/585 [============================>.] - ETA: 0s - loss: 0.4500 - mae: 0.5287\n",
            "Epoch 9: val_mae did not improve from 0.62877\n",
            "585/585 [==============================] - 8s 13ms/step - loss: 0.4506 - mae: 0.5289 - val_loss: 0.6687 - val_mae: 0.6534\n",
            "Epoch 10/50\n",
            "585/585 [==============================] - ETA: 0s - loss: 0.4118 - mae: 0.5037\n",
            "Epoch 10: val_mae did not improve from 0.62877\n",
            "Restoring model weights from the end of the best epoch: 5.\n",
            "585/585 [==============================] - 9s 15ms/step - loss: 0.4118 - mae: 0.5037 - val_loss: 0.6984 - val_mae: 0.6681\n",
            "Epoch 10: early stopping\n",
            "147/147 [==============================] - 1s 5ms/step - loss: 0.6317 - mae: 0.6288\n",
            "difficulty prediction: 0.6287729740142822\n"
          ]
        }
      ]
    },
    {
      "cell_type": "markdown",
      "source": [
        "##### Graph Results"
      ],
      "metadata": {
        "id": "fPb6ay2iSDyw"
      }
    },
    {
      "cell_type": "markdown",
      "source": [
        "Plot Training Results"
      ],
      "metadata": {
        "id": "1hms00dTZkU0"
      }
    },
    {
      "cell_type": "code",
      "source": [
        "# Verify keys available for history to display\n",
        "print(history.history.keys())"
      ],
      "metadata": {
        "colab": {
          "base_uri": "https://localhost:8080/"
        },
        "id": "ebvxCcdxRJ3n",
        "outputId": "f5dbc24c-a7a3-4d18-dd08-5ffa71e38d2c"
      },
      "execution_count": null,
      "outputs": [
        {
          "output_type": "stream",
          "name": "stdout",
          "text": [
            "dict_keys(['loss', 'mae', 'val_loss', 'val_mae'])\n"
          ]
        }
      ]
    },
    {
      "cell_type": "code",
      "source": [
        "# Plot loss\n",
        "import matplotlib.pyplot as plt\n",
        "\n",
        "history_dict = history.history\n",
        "loss = history_dict['loss']\n",
        "val_loss = history_dict['val_loss']\n",
        "epochs = range(1, len(loss) + 1)\n",
        "\n",
        "plt.figure(figsize=(16, 5))\n",
        "\n",
        "plt.subplot(1, 2, 1)\n",
        "plt.plot(epochs, loss, 'bo-', label='Training loss')\n",
        "plt.plot(epochs, val_loss, 'r-', label='Validation loss')\n",
        "plt.title('Loss during training')\n",
        "plt.xlabel('Epochs')\n",
        "plt.ylabel('Loss')\n",
        "plt.legend()\n",
        "\n",
        "plt.show()"
      ],
      "metadata": {
        "colab": {
          "base_uri": "https://localhost:8080/",
          "height": 487
        },
        "id": "rZI-SrjrRFQp",
        "outputId": "7170ef8e-6099-410a-e309-7dd2192ef8ef"
      },
      "execution_count": null,
      "outputs": [
        {
          "output_type": "display_data",
          "data": {
            "text/plain": [
              "<Figure size 1600x500 with 1 Axes>"
            ],
            "image/png": "[encoded data removed]"
          },
          "metadata": {}
        }
      ]
    },
    {
      "cell_type": "code",
      "source": [
        "# Plot MAE\n",
        "mae = history_dict['mae']\n",
        "val_mae = history_dict['val_mae']\n",
        "\n",
        "plt.figure(figsize=(12, 6))\n",
        "\n",
        "plt.subplot(1, 2, 1)\n",
        "plt.plot(epochs, loss, 'bo-', label='MAE')\n",
        "plt.plot(epochs, val_mae, 'r-', label='Validation MAE')\n",
        "plt.title('MAE during training')\n",
        "plt.xlabel('Epochs')\n",
        "plt.ylabel('MAE')\n",
        "plt.legend()\n",
        "\n",
        "plt.show()"
      ],
      "metadata": {
        "colab": {
          "base_uri": "https://localhost:8080/",
          "height": 564
        },
        "id": "erkBmTGBSS9q",
        "outputId": "cdfe48ce-79f6-4898-93f2-ff8dc8c16873"
      },
      "execution_count": null,
      "outputs": [
        {
          "output_type": "display_data",
          "data": {
            "text/plain": [
              "<Figure size 1200x600 with 1 Axes>"
            ],
            "image/png": "[encoded data removed]"
          },
          "metadata": {}
        }
      ]
    },
    {
      "cell_type": "markdown",
      "source": [
        "### Classification"
      ],
      "metadata": {
        "id": "cZT0BoKTRRqI"
      }
    },
    {
      "cell_type": "markdown",
      "metadata": {
        "id": "XkTxwPCT_y4y"
      },
      "source": [
        "RNN TEXT Classification Model"
      ]
    },
    {
      "cell_type": "markdown",
      "source": [
        "Neural networks often require the output labels to be in a one-hot encoded format for classification tasks.\n",
        "\n",
        "Therefore, in this code snippet, the labels for quality and difficulty are being converted into one-hot encoded format using the to_categorical function from Keras."
      ],
      "metadata": {
        "id": "hUKXbNnwpC02"
      }
    },
    {
      "cell_type": "code",
      "source": [
        "from keras.utils import to_categorical\n",
        "\n",
        "# Convert labels to one-hot encoding\n",
        "quality_labels_onehot = to_categorical(quality_classes, num_classes=4)\n",
        "difficulty_labels_onehot = to_categorical(difficulty_classes, num_classes=4)"
      ],
      "metadata": {
        "id": "RqNJwsP7ryeF"
      },
      "execution_count": null,
      "outputs": []
    },
    {
      "cell_type": "code",
      "source": [
        "x_train, x_test, y_train_quality, y_test_quality, y_train_difficulty, y_test_difficulty = train_test_split(\n",
        "    data, quality_labels_onehot, difficulty_labels_onehot, test_size=0.2, random_state=42)"
      ],
      "metadata": {
        "id": "ZIoDFR21r55L"
      },
      "execution_count": null,
      "outputs": []
    },
    {
      "cell_type": "code",
      "source": [
        "tokenizer = Tokenizer(num_words=10000)\n",
        "tokenizer.fit_on_texts(df['comments'].values)\n",
        "sequences = tokenizer.texts_to_sequences(df['comments'].values)\n",
        "maxlen = 100  # Assuming a maximum sequence length of 100\n",
        "data = pad_sequences(sequences, maxlen=maxlen)"
      ],
      "metadata": {
        "id": "1s9ABj3kr7aV"
      },
      "execution_count": null,
      "outputs": []
    },
    {
      "cell_type": "code",
      "source": [
        "embeddings_index = {}\n",
        "with open('/content/drive/MyDrive/Colab Notebooks/glove/glove.6B.300d.txt', encoding='utf-8') as f:\n",
        "    next(f)  # Skip the header line\n",
        "    for line in f:\n",
        "        values = line.split()\n",
        "        word = values[0]\n",
        "        if len(values) > 1:\n",
        "            coefs = np.asarray(values[1:], dtype='float32')\n",
        "            embeddings_index[word] = coefs\n",
        "\n",
        "# Create an embedding matrix\n",
        "word_index = tokenizer.word_index\n",
        "embedding_dim = 300\n",
        "embedding_matrix = np.zeros((len(word_index) + 1, embedding_dim))\n",
        "for word, i in word_index.items():\n",
        "    embedding_vector = embeddings_index.get(word)\n",
        "    if embedding_vector is not None:\n",
        "        # Words not found in embedding index will be all-zeros.\n",
        "        embedding_matrix[i] = embedding_vector"
      ],
      "metadata": {
        "id": "vVYY9_CKr9X2"
      },
      "execution_count": null,
      "outputs": []
    },
    {
      "cell_type": "code",
      "source": [
        "# Test print data\n",
        "print(x_train.shape)\n",
        "print(y_train_quality.shape)\n",
        "print(x_test.shape)\n",
        "print(y_test_quality.shape)"
      ],
      "metadata": {
        "colab": {
          "base_uri": "https://localhost:8080/"
        },
        "id": "0yc8mE6br_Mi",
        "outputId": "4d93efe4-2a89-4f7e-ed13-b41f081451bf"
      },
      "execution_count": null,
      "outputs": [
        {
          "output_type": "stream",
          "name": "stdout",
          "text": [
            "(18693, 100)\n",
            "(18693, 4)\n",
            "(4674, 100)\n",
            "(4674, 4)\n"
          ]
        }
      ]
    },
    {
      "cell_type": "markdown",
      "source": [
        "#### Quality accuracy"
      ],
      "metadata": {
        "id": "cpdx7nLiAQpt"
      }
    },
    {
      "cell_type": "markdown",
      "source": [
        "This code trains a bidirectional LSTM model for multi-class classification with callbacks to save the best model and stop early if no improvement in validation accuracy. The model uses pre-trained word embeddings and outputs class probabilities for quality classification.\n",
        "\n",
        "In the provided code, categorical cross-entropy is used as the loss function because the task is a multi-class classification problem.\n",
        "\n",
        "The softmax activation function in the output layer converts the raw output scores (logits) into a probability distribution. The sum of the probabilities for all classes is 1.\n",
        "\n",
        "Categorical cross-entropy measures the dissimilarity between the true label distribution (which is one-hot encoded) and the predicted probability distribution. It calculates the negative log probability of the correct class, penalizing the model more when it assigns a lower probability to the correct class."
      ],
      "metadata": {
        "id": "fxurRMSGpXjt"
      }
    },
    {
      "cell_type": "markdown",
      "source": [
        "##### Interpretation of the Result from Epochs\n",
        "\n",
        "Quality Prediction Accuracy: The value 0.5975610017776489 indicates that the model's accuracy on the test set for predicting the quality labels is approximately 59.82%\n",
        "\n",
        "An accuracy of 0.5982 means that the model correctly predicts the quality label about 59.82% of the time."
      ],
      "metadata": {
        "id": "e-V5T1JGuMYd"
      }
    },
    {
      "cell_type": "code",
      "source": [
        "from keras.callbacks import ModelCheckpoint, EarlyStopping\n",
        "\n",
        "# Define a callback to save the best model during training\n",
        "checkpoint_path = \"quality_model_aug_class_checkpoint.h5\"\n",
        "checkpoint = ModelCheckpoint(checkpoint_path, monitor='val_accuracy', verbose=1, save_best_only=True, mode='max')\n",
        "\n",
        "# Define early stopping callback\n",
        "early_stopping = EarlyStopping(monitor='val_accuracy', patience=5, verbose=1, mode='max', restore_best_weights=True)\n",
        "\n",
        "# Build the quality model\n",
        "quality_model = Sequential()\n",
        "quality_model.add(Embedding(len(word_index) + 1, embedding_dim, weights=[embedding_matrix],\n",
        "                            input_length=maxlen, trainable=False))\n",
        "quality_model.add(Bidirectional(LSTM(64)))\n",
        "quality_model.add(Dense(4, activation='softmax'))  # Output 4 classes for sentiment classification\n",
        "\n",
        "# Compile the quality model\n",
        "quality_model.compile(optimizer='adam', loss='categorical_crossentropy', metrics=['accuracy'])\n",
        "\n",
        "# Train the quality model with checkpoint and early stopping callbacks\n",
        "history = quality_model.fit(x_train, y_train_quality, epochs=50, batch_size=32, validation_data=(x_test, y_test_quality), callbacks=[checkpoint, early_stopping])\n",
        "\n",
        "# Evaluate the quality model\n",
        "quality_loss, quality_accuracy = quality_model.evaluate(x_test, y_test_quality)\n",
        "print(\"quality prediction:\", quality_accuracy)"
      ],
      "metadata": {
        "colab": {
          "base_uri": "https://localhost:8080/"
        },
        "id": "Aqv1zsyusBar",
        "outputId": "93bd54c0-c85a-4157-f42a-f83fac7893b7"
      },
      "execution_count": null,
      "outputs": [
        {
          "output_type": "stream",
          "name": "stdout",
          "text": [
            "Epoch 1/50\n",
            "582/585 [============================>.] - ETA: 0s - loss: 1.0703 - accuracy: 0.5184\n",
            "Epoch 1: val_accuracy improved from -inf to 0.56718, saving model to quality_model_aug_class_checkpoint.h5\n",
            "585/585 [==============================] - 15s 18ms/step - loss: 1.0696 - accuracy: 0.5186 - val_loss: 0.9700 - val_accuracy: 0.5672\n",
            "Epoch 2/50\n",
            "582/585 [============================>.] - ETA: 0s - loss: 0.9410 - accuracy: 0.5764\n",
            "Epoch 2: val_accuracy improved from 0.56718 to 0.58194, saving model to quality_model_aug_class_checkpoint.h5\n",
            "585/585 [==============================] - 8s 14ms/step - loss: 0.9412 - accuracy: 0.5762 - val_loss: 0.9425 - val_accuracy: 0.5819\n",
            "Epoch 3/50\n",
            "585/585 [==============================] - ETA: 0s - loss: 0.8918 - accuracy: 0.5996\n",
            "Epoch 3: val_accuracy did not improve from 0.58194\n",
            "585/585 [==============================] - 7s 12ms/step - loss: 0.8918 - accuracy: 0.5996 - val_loss: 0.9435 - val_accuracy: 0.5804\n",
            "Epoch 4/50\n",
            "583/585 [============================>.] - ETA: 0s - loss: 0.8529 - accuracy: 0.6212\n",
            "Epoch 4: val_accuracy improved from 0.58194 to 0.59392, saving model to quality_model_aug_class_checkpoint.h5\n",
            "585/585 [==============================] - 8s 14ms/step - loss: 0.8529 - accuracy: 0.6212 - val_loss: 0.9185 - val_accuracy: 0.5939\n",
            "Epoch 5/50\n",
            "584/585 [============================>.] - ETA: 0s - loss: 0.8120 - accuracy: 0.6368\n",
            "Epoch 5: val_accuracy improved from 0.59392 to 0.59756, saving model to quality_model_aug_class_checkpoint.h5\n",
            "585/585 [==============================] - 7s 12ms/step - loss: 0.8120 - accuracy: 0.6369 - val_loss: 0.9145 - val_accuracy: 0.5976\n",
            "Epoch 6/50\n",
            "584/585 [============================>.] - ETA: 0s - loss: 0.7746 - accuracy: 0.6539\n",
            "Epoch 6: val_accuracy did not improve from 0.59756\n",
            "585/585 [==============================] - 9s 15ms/step - loss: 0.7746 - accuracy: 0.6540 - val_loss: 0.9199 - val_accuracy: 0.5918\n",
            "Epoch 7/50\n",
            "582/585 [============================>.] - ETA: 0s - loss: 0.7294 - accuracy: 0.6782\n",
            "Epoch 7: val_accuracy did not improve from 0.59756\n",
            "585/585 [==============================] - 8s 13ms/step - loss: 0.7293 - accuracy: 0.6782 - val_loss: 0.9323 - val_accuracy: 0.5864\n",
            "Epoch 8/50\n",
            "584/585 [============================>.] - ETA: 0s - loss: 0.6819 - accuracy: 0.7031\n",
            "Epoch 8: val_accuracy did not improve from 0.59756\n",
            "585/585 [==============================] - 9s 15ms/step - loss: 0.6819 - accuracy: 0.7030 - val_loss: 0.9826 - val_accuracy: 0.5648\n",
            "Epoch 9/50\n",
            "584/585 [============================>.] - ETA: 0s - loss: 0.6388 - accuracy: 0.7239\n",
            "Epoch 9: val_accuracy did not improve from 0.59756\n",
            "585/585 [==============================] - 7s 12ms/step - loss: 0.6388 - accuracy: 0.7239 - val_loss: 0.9944 - val_accuracy: 0.5633\n",
            "Epoch 10/50\n",
            "584/585 [============================>.] - ETA: 0s - loss: 0.5814 - accuracy: 0.7559\n",
            "Epoch 10: val_accuracy did not improve from 0.59756\n",
            "Restoring model weights from the end of the best epoch: 5.\n",
            "585/585 [==============================] - 9s 15ms/step - loss: 0.5813 - accuracy: 0.7560 - val_loss: 1.0567 - val_accuracy: 0.5573\n",
            "Epoch 10: early stopping\n",
            "147/147 [==============================] - 1s 6ms/step - loss: 0.9145 - accuracy: 0.5976\n",
            "quality prediction: 0.5975610017776489\n"
          ]
        }
      ]
    },
    {
      "cell_type": "markdown",
      "source": [
        "##### Graph Results"
      ],
      "metadata": {
        "id": "Up7qpbdLTJSZ"
      }
    },
    {
      "cell_type": "markdown",
      "source": [
        "Plot Training Results"
      ],
      "metadata": {
        "id": "HT2wkOj9Zokm"
      }
    },
    {
      "cell_type": "code",
      "source": [
        "# Verify keys available for history to display\n",
        "print(history.history.keys())"
      ],
      "metadata": {
        "colab": {
          "base_uri": "https://localhost:8080/"
        },
        "id": "Ipj1U_CZTeBe",
        "outputId": "8b01cb2c-2a15-48a3-e675-bca84a312b80"
      },
      "execution_count": null,
      "outputs": [
        {
          "output_type": "stream",
          "name": "stdout",
          "text": [
            "dict_keys(['loss', 'accuracy', 'val_loss', 'val_accuracy'])\n"
          ]
        }
      ]
    },
    {
      "cell_type": "markdown",
      "source": [
        "This code plots the training and validation loss over epochs using Matplotlib.\n",
        "\n",
        "The plot of loss during training shows the following trends:\n",
        "\n",
        "**Training Loss:** The training loss consistently decreases with each epoch, indicating that the model is learning and improving its performance on the training data.\n",
        "\n",
        "**Validation Loss:** The validation loss initially decreases for a few epochs, indicating that the model is also performing well on the validation data. However, after this initial decrease, the validation loss starts to increase, suggesting that the model's performance on unseen validation data begins to deteriorate.\n",
        "\n",
        "This pattern typically indicates that the model may be overfitting to the training data."
      ],
      "metadata": {
        "id": "5qy_BJwmqKB7"
      }
    },
    {
      "cell_type": "code",
      "source": [
        "# Plot loss\n",
        "import matplotlib.pyplot as plt\n",
        "\n",
        "history_dict = history.history\n",
        "loss = history_dict['loss']\n",
        "val_loss = history_dict['val_loss']\n",
        "epochs = range(1, len(loss) + 1)\n",
        "\n",
        "plt.figure(figsize=(16, 5))\n",
        "\n",
        "plt.subplot(1, 2, 1)\n",
        "plt.plot(epochs, loss, 'bo-', label='Training loss')\n",
        "plt.plot(epochs, val_loss, 'r-', label='Validation loss')\n",
        "plt.title('Loss during training')\n",
        "plt.xlabel('Epochs')\n",
        "plt.ylabel('Loss')\n",
        "plt.legend()\n",
        "\n",
        "plt.show()"
      ],
      "metadata": {
        "colab": {
          "base_uri": "https://localhost:8080/",
          "height": 487
        },
        "id": "-T1JzLqoTkmF",
        "outputId": "690d3b67-3cd5-405a-8102-a12a3b90fe02"
      },
      "execution_count": null,
      "outputs": [
        {
          "output_type": "display_data",
          "data": {
            "text/plain": [
              "<Figure size 1600x500 with 1 Axes>"
            ],
            "image/png": "[encoded data removed]"
          },
          "metadata": {}
        }
      ]
    },
    {
      "cell_type": "markdown",
      "source": [
        "This code plots the training and validation accuracy over epochs using Matplotlib.\n",
        "\n",
        "The plot of accuracy during training shows the following trends:\n",
        "\n",
        "**Training Accuracy:** The training accuracy consistently increases with each epoch, indicating that the model is learning and improving its performance on the training data.\n",
        "\n",
        "**Validation Accuracy:** The validation accuracy initially increases for a few epochs, indicating that the model is performing well on the validation data. However, after this initial increase, the validation accuracy starts to fluctuate. Eventually, it starts to decrease, suggesting that the model's ability to generalize to new, unseen data is diminishing."
      ],
      "metadata": {
        "id": "C90wkeNdqmih"
      }
    },
    {
      "cell_type": "code",
      "source": [
        "# Plot Accuracy\n",
        "acc = history_dict['accuracy']\n",
        "val_acc = history_dict['val_accuracy']\n",
        "\n",
        "plt.figure(figsize=(12, 6))\n",
        "\n",
        "plt.subplot(1, 2, 1)\n",
        "plt.plot(epochs, acc, 'bo-', label='Accuracy')\n",
        "plt.plot(epochs, val_acc, 'r-', label='Validation Accuracy')\n",
        "plt.title('Accuracy during training')\n",
        "plt.xlabel('Epochs')\n",
        "plt.ylabel('Accuracy')\n",
        "plt.legend()\n",
        "\n",
        "plt.show()"
      ],
      "metadata": {
        "colab": {
          "base_uri": "https://localhost:8080/",
          "height": 564
        },
        "id": "2DZMXEJtTnMg",
        "outputId": "b5fd9f04-f3a2-4269-fa8b-5191f9122396"
      },
      "execution_count": null,
      "outputs": [
        {
          "output_type": "display_data",
          "data": {
            "text/plain": [
              "<Figure size 1200x600 with 1 Axes>"
            ],
            "image/png": "[encoded data removed]"
          },
          "metadata": {}
        }
      ]
    },
    {
      "cell_type": "markdown",
      "source": [
        "#### Difficulty Prediction"
      ],
      "metadata": {
        "id": "VZ7OWse-AfDu"
      }
    },
    {
      "cell_type": "markdown",
      "source": [
        "##### Interpretation of the Result from Epochs\n",
        "\n",
        "Difficulty Accuracy: The value 0.5423619747161865 indicates that the model's accuracy on the test set for predicting correct difficulty labels is approximately 54.23%\n",
        "\n",
        "An accuracy of 0.5423 means that the model correctly predicts the difficulty label about 54.23% of the time."
      ],
      "metadata": {
        "id": "7tNeu92_vBE5"
      }
    },
    {
      "cell_type": "code",
      "source": [
        "from keras.callbacks import ModelCheckpoint, EarlyStopping\n",
        "\n",
        "# Define a callback to save the best model during training\n",
        "checkpoint_path = \"difficulty_model_aug_class_checkpoint.h5\"\n",
        "checkpoint = ModelCheckpoint(checkpoint_path, monitor='val_accuracy', verbose=1, save_best_only=True, mode='max')\n",
        "\n",
        "# Define early stopping callback\n",
        "early_stopping = EarlyStopping(monitor='val_accuracy', patience=5, verbose=1, mode='max', restore_best_weights=True)\n",
        "\n",
        "# Build the difficulty model\n",
        "difficulty_model = Sequential()\n",
        "difficulty_model.add(Embedding(len(word_index) + 1, embedding_dim, weights=[embedding_matrix],\n",
        "                            input_length=maxlen, trainable=False))\n",
        "difficulty_model.add(Bidirectional(LSTM(64)))\n",
        "difficulty_model.add(Dense(4, activation='softmax'))  # Output 4 classes for sentiment classification\n",
        "\n",
        "# Compile the difficulty model\n",
        "difficulty_model.compile(optimizer='adam', loss='categorical_crossentropy', metrics=['accuracy'])\n",
        "\n",
        "# Train the difficulty model with checkpoint and early stopping callbacks\n",
        "history = difficulty_model.fit(x_train, y_train_difficulty, epochs=50, batch_size=32, validation_data=(x_test, y_test_difficulty), callbacks=[checkpoint, early_stopping])\n",
        "\n",
        "# Evaluate the difficulty model\n",
        "difficulty_loss, difficulty_accuracy = difficulty_model.evaluate(x_test, y_test_difficulty)\n",
        "print(\"difficulty prediction:\", difficulty_accuracy)"
      ],
      "metadata": {
        "colab": {
          "base_uri": "https://localhost:8080/"
        },
        "id": "cJEdkXZ-sEbW",
        "outputId": "a19a24a2-8323-41ae-85f1-db961406c83d"
      },
      "execution_count": null,
      "outputs": [
        {
          "output_type": "stream",
          "name": "stdout",
          "text": [
            "Epoch 1/50\n",
            "582/585 [============================>.] - ETA: 0s - loss: 1.1883 - accuracy: 0.5048\n",
            "Epoch 1: val_accuracy improved from -inf to 0.52418, saving model to difficulty_model_aug_class_checkpoint.h5\n",
            "585/585 [==============================] - 14s 17ms/step - loss: 1.1877 - accuracy: 0.5053 - val_loss: 1.1147 - val_accuracy: 0.5242\n",
            "Epoch 2/50\n",
            "583/585 [============================>.] - ETA: 0s - loss: 1.0971 - accuracy: 0.5322\n",
            "Epoch 2: val_accuracy improved from 0.52418 to 0.53851, saving model to difficulty_model_aug_class_checkpoint.h5\n",
            "585/585 [==============================] - 8s 13ms/step - loss: 1.0972 - accuracy: 0.5323 - val_loss: 1.0862 - val_accuracy: 0.5385\n",
            "Epoch 3/50\n",
            "585/585 [==============================] - ETA: 0s - loss: 1.0536 - accuracy: 0.5527\n",
            "Epoch 3: val_accuracy improved from 0.53851 to 0.54236, saving model to difficulty_model_aug_class_checkpoint.h5\n",
            "585/585 [==============================] - 8s 14ms/step - loss: 1.0536 - accuracy: 0.5527 - val_loss: 1.0768 - val_accuracy: 0.5424\n",
            "Epoch 4/50\n",
            "585/585 [==============================] - ETA: 0s - loss: 1.0189 - accuracy: 0.5640\n",
            "Epoch 4: val_accuracy did not improve from 0.54236\n",
            "585/585 [==============================] - 8s 14ms/step - loss: 1.0189 - accuracy: 0.5640 - val_loss: 1.0677 - val_accuracy: 0.5398\n",
            "Epoch 5/50\n",
            "581/585 [============================>.] - ETA: 0s - loss: 0.9821 - accuracy: 0.5814\n",
            "Epoch 5: val_accuracy did not improve from 0.54236\n",
            "585/585 [==============================] - 8s 13ms/step - loss: 0.9822 - accuracy: 0.5812 - val_loss: 1.0794 - val_accuracy: 0.5396\n",
            "Epoch 6/50\n",
            "582/585 [============================>.] - ETA: 0s - loss: 0.9441 - accuracy: 0.5992\n",
            "Epoch 6: val_accuracy did not improve from 0.54236\n",
            "585/585 [==============================] - 8s 14ms/step - loss: 0.9441 - accuracy: 0.5991 - val_loss: 1.0939 - val_accuracy: 0.5400\n",
            "Epoch 7/50\n",
            "585/585 [==============================] - ETA: 0s - loss: 0.8986 - accuracy: 0.6233\n",
            "Epoch 7: val_accuracy did not improve from 0.54236\n",
            "585/585 [==============================] - 7s 12ms/step - loss: 0.8986 - accuracy: 0.6233 - val_loss: 1.1298 - val_accuracy: 0.5193\n",
            "Epoch 8/50\n",
            "585/585 [==============================] - ETA: 0s - loss: 0.8477 - accuracy: 0.6491\n",
            "Epoch 8: val_accuracy did not improve from 0.54236\n",
            "Restoring model weights from the end of the best epoch: 3.\n",
            "585/585 [==============================] - 8s 14ms/step - loss: 0.8477 - accuracy: 0.6491 - val_loss: 1.1492 - val_accuracy: 0.5205\n",
            "Epoch 8: early stopping\n",
            "147/147 [==============================] - 1s 7ms/step - loss: 1.0768 - accuracy: 0.5424\n",
            "difficulty prediction: 0.5423619747161865\n"
          ]
        }
      ]
    },
    {
      "cell_type": "markdown",
      "source": [
        "##### Graph Results"
      ],
      "metadata": {
        "id": "1dRKKy5VUGlt"
      }
    },
    {
      "cell_type": "markdown",
      "source": [
        "Plot Training Results"
      ],
      "metadata": {
        "id": "AMjCGp50Zr8F"
      }
    },
    {
      "cell_type": "code",
      "source": [
        "# Verify keys available for history to display\n",
        "print(history.history.keys())"
      ],
      "metadata": {
        "colab": {
          "base_uri": "https://localhost:8080/"
        },
        "id": "rPuTPrV7UHt5",
        "outputId": "c1d3338c-37b1-48d7-9efd-30477acbfaab"
      },
      "execution_count": null,
      "outputs": [
        {
          "output_type": "stream",
          "name": "stdout",
          "text": [
            "dict_keys(['loss', 'accuracy', 'val_loss', 'val_accuracy'])\n"
          ]
        }
      ]
    },
    {
      "cell_type": "code",
      "source": [
        "# Plot loss\n",
        "import matplotlib.pyplot as plt\n",
        "\n",
        "history_dict = history.history\n",
        "loss = history_dict['loss']\n",
        "val_loss = history_dict['val_loss']\n",
        "epochs = range(1, len(loss) + 1)\n",
        "\n",
        "plt.figure(figsize=(16, 5))\n",
        "\n",
        "plt.subplot(1, 2, 1)\n",
        "plt.plot(epochs, loss, 'bo-', label='Training loss')\n",
        "plt.plot(epochs, val_loss, 'r-', label='Validation loss')\n",
        "plt.title('Loss during training')\n",
        "plt.xlabel('Epochs')\n",
        "plt.ylabel('Loss')\n",
        "plt.legend()\n",
        "\n",
        "plt.show()"
      ],
      "metadata": {
        "colab": {
          "base_uri": "https://localhost:8080/",
          "height": 487
        },
        "id": "PHnqZJd4UL63",
        "outputId": "b29d70b0-fd39-4926-e4ee-ab055d398dcb"
      },
      "execution_count": null,
      "outputs": [
        {
          "output_type": "display_data",
          "data": {
            "text/plain": [
              "<Figure size 1600x500 with 1 Axes>"
            ],
            "image/png": "[encoded data removed]"
          },
          "metadata": {}
        }
      ]
    },
    {
      "cell_type": "code",
      "source": [
        "# Plot Accuracy\n",
        "acc = history_dict['accuracy']\n",
        "val_acc = history_dict['val_accuracy']\n",
        "\n",
        "plt.figure(figsize=(12, 6))\n",
        "\n",
        "plt.subplot(1, 2, 1)\n",
        "plt.plot(epochs, acc, 'bo-', label='Accuracy')\n",
        "plt.plot(epochs, val_acc, 'r-', label='Validation Accuracy')\n",
        "plt.title('Accuracy during training')\n",
        "plt.xlabel('Epochs')\n",
        "plt.ylabel('Accuracy')\n",
        "plt.legend()\n",
        "\n",
        "plt.show()"
      ],
      "metadata": {
        "colab": {
          "base_uri": "https://localhost:8080/",
          "height": 564
        },
        "id": "VHmeJWhOUPWS",
        "outputId": "fc9d323f-b563-4792-9c1d-28bb7f6a97db"
      },
      "execution_count": null,
      "outputs": [
        {
          "output_type": "display_data",
          "data": {
            "text/plain": [
              "<Figure size 1200x600 with 1 Axes>"
            ],
            "image/png": "[encoded data removed]"
          },
          "metadata": {}
        }
      ]
    },
    {
      "cell_type": "markdown",
      "metadata": {
        "id": "T_0V5y5VNikI"
      },
      "source": [
        "## Transformer"
      ]
    },
    {
      "cell_type": "markdown",
      "metadata": {
        "id": "5LWtACqTVtWD"
      },
      "source": [
        "Import libraries"
      ]
    },
    {
      "cell_type": "code",
      "execution_count": null,
      "metadata": {
        "id": "_7a9UZ0UVmO6"
      },
      "outputs": [],
      "source": [
        "from tensorflow.keras.layers import Embedding, Dense, LayerNormalization, Dropout, Input\n",
        "from tensorflow.keras.layers import MultiHeadAttention, GlobalAveragePooling1D\n",
        "import tensorflow as tf"
      ]
    },
    {
      "cell_type": "code",
      "source": [
        "x_train, x_test, y_train_quality, y_test_quality, y_train_difficulty, y_test_difficulty = train_test_split(\n",
        "    data, quality_classes, difficulty_classes, test_size=0.2, random_state=42)"
      ],
      "metadata": {
        "id": "cP7M1quhwn5d"
      },
      "execution_count": null,
      "outputs": []
    },
    {
      "cell_type": "markdown",
      "metadata": {
        "id": "MgvThZP6VzCr"
      },
      "source": [
        "Create Transformer Block"
      ]
    },
    {
      "cell_type": "code",
      "execution_count": null,
      "metadata": {
        "id": "ZjJROf5QNkxc"
      },
      "outputs": [],
      "source": [
        "# Helper functions\n",
        "def positional_encoding(position, d_model):\n",
        "    angle_rads = np.arange(position)[:, np.newaxis] / np.power(10000, (2 * (np.arange(d_model)[np.newaxis, :] // 2)) / np.float32(d_model))\n",
        "    angle_rads[:, 0::2] = np.sin(angle_rads[:, 0::2])\n",
        "    angle_rads[:, 1::2] = np.cos(angle_rads[:, 1::2])\n",
        "    pos_encoding = angle_rads[np.newaxis, ...]\n",
        "    return tf.cast(pos_encoding, dtype=tf.float32)\n",
        "\n",
        "def transformer_block(x, num_heads, d_model, rate=0.1):\n",
        "    attn_output = MultiHeadAttention(num_heads=num_heads, key_dim=d_model)(x, x)\n",
        "    attn_output = Dropout(rate)(attn_output)\n",
        "    out1 = LayerNormalization(epsilon=1e-6)(x + attn_output)\n",
        "    ffn_output = Dense(d_model, activation='relu')(out1)\n",
        "    ffn_output = Dense(d_model)(ffn_output)\n",
        "    ffn_output = Dropout(rate)(ffn_output)\n",
        "    return LayerNormalization(epsilon=1e-6)(out1 + ffn_output)"
      ]
    },
    {
      "cell_type": "markdown",
      "metadata": {
        "id": "Y_sTkvXbV6bj"
      },
      "source": [
        "Already have loaded dataset, tokenized, and split dataset from before.\n",
        "Load GloVe embedding"
      ]
    },
    {
      "cell_type": "code",
      "execution_count": null,
      "metadata": {
        "id": "0K_KMt2nV7Fc"
      },
      "outputs": [],
      "source": [
        "# Load GloVe embeddings\n",
        "embeddings_index = {}\n",
        "with open('/content/drive/MyDrive/Colab Notebooks/glove/glove.6B.300d.txt', encoding='utf-8') as f:\n",
        "    next(f)\n",
        "    for line in f:\n",
        "        values = line.split()\n",
        "        word = values[0]\n",
        "        coefs = np.asarray(values[1:], dtype='float32')\n",
        "        embeddings_index[word] = coefs\n",
        "\n",
        "# Embedding matrix\n",
        "word_index = tokenizer.word_index\n",
        "embedding_dim = 300\n",
        "embedding_matrix = np.zeros((len(word_index) + 1, embedding_dim))\n",
        "for word, i in word_index.items():\n",
        "    embedding_vector = embeddings_index.get(word)\n",
        "    if embedding_vector is not None:\n",
        "        embedding_matrix[i] = embedding_vector"
      ]
    },
    {
      "cell_type": "markdown",
      "metadata": {
        "id": "JajWbJZrVA0l"
      },
      "source": [
        "Transformer Model Architecture"
      ]
    },
    {
      "cell_type": "code",
      "execution_count": null,
      "metadata": {
        "colab": {
          "base_uri": "https://localhost:8080/"
        },
        "outputId": "ef389be0-9369-46b1-90d0-b24b70e935f0",
        "id": "GRtHpjZ4VA0l"
      },
      "outputs": [
        {
          "output_type": "stream",
          "name": "stdout",
          "text": [
            "Epoch 1/10\n",
            "585/585 [==============================] - 28s 35ms/step - loss: 1.9574 - dense_6_loss: 1.0512 - dense_7_loss: 0.9063 - dense_6_mae: 0.8000 - dense_7_mae: 0.7413 - val_loss: 1.6014 - val_dense_6_loss: 0.8140 - val_dense_7_loss: 0.7875 - val_dense_6_mae: 0.6957 - val_dense_7_mae: 0.7349\n",
            "Epoch 2/10\n",
            "585/585 [==============================] - 20s 34ms/step - loss: 1.4261 - dense_6_loss: 0.7146 - dense_7_loss: 0.7115 - dense_6_mae: 0.6724 - dense_7_mae: 0.6787 - val_loss: 1.4441 - val_dense_6_loss: 0.7120 - val_dense_7_loss: 0.7320 - val_dense_6_mae: 0.6753 - val_dense_7_mae: 0.6625\n",
            "Epoch 3/10\n",
            "585/585 [==============================] - 21s 36ms/step - loss: 1.3656 - dense_6_loss: 0.6771 - dense_7_loss: 0.6886 - dense_6_mae: 0.6528 - dense_7_mae: 0.6666 - val_loss: 1.5151 - val_dense_6_loss: 0.7068 - val_dense_7_loss: 0.8083 - val_dense_6_mae: 0.6443 - val_dense_7_mae: 0.6851\n",
            "Epoch 4/10\n",
            "585/585 [==============================] - 20s 35ms/step - loss: 1.3269 - dense_6_loss: 0.6527 - dense_7_loss: 0.6742 - dense_6_mae: 0.6386 - dense_7_mae: 0.6604 - val_loss: 1.5040 - val_dense_6_loss: 0.7659 - val_dense_7_loss: 0.7381 - val_dense_6_mae: 0.7045 - val_dense_7_mae: 0.6446\n",
            "Epoch 5/10\n",
            "585/585 [==============================] - 20s 35ms/step - loss: 1.2821 - dense_6_loss: 0.6240 - dense_7_loss: 0.6581 - dense_6_mae: 0.6219 - dense_7_mae: 0.6533 - val_loss: 1.3689 - val_dense_6_loss: 0.6753 - val_dense_7_loss: 0.6936 - val_dense_6_mae: 0.6294 - val_dense_7_mae: 0.6466\n",
            "Epoch 6/10\n",
            "585/585 [==============================] - 21s 35ms/step - loss: 1.2627 - dense_6_loss: 0.6088 - dense_7_loss: 0.6540 - dense_6_mae: 0.6101 - dense_7_mae: 0.6494 - val_loss: 1.4782 - val_dense_6_loss: 0.6764 - val_dense_7_loss: 0.8018 - val_dense_6_mae: 0.6599 - val_dense_7_mae: 0.6718\n",
            "Epoch 7/10\n",
            "585/585 [==============================] - 20s 34ms/step - loss: 1.2560 - dense_6_loss: 0.6108 - dense_7_loss: 0.6451 - dense_6_mae: 0.6137 - dense_7_mae: 0.6458 - val_loss: 1.4153 - val_dense_6_loss: 0.6715 - val_dense_7_loss: 0.7438 - val_dense_6_mae: 0.6346 - val_dense_7_mae: 0.6730\n",
            "Epoch 8/10\n",
            "585/585 [==============================] - 20s 34ms/step - loss: 1.2418 - dense_6_loss: 0.6037 - dense_7_loss: 0.6381 - dense_6_mae: 0.6091 - dense_7_mae: 0.6427 - val_loss: 1.3998 - val_dense_6_loss: 0.6607 - val_dense_7_loss: 0.7391 - val_dense_6_mae: 0.6215 - val_dense_7_mae: 0.6620\n",
            "Epoch 9/10\n",
            "585/585 [==============================] - 20s 34ms/step - loss: 1.2247 - dense_6_loss: 0.5914 - dense_7_loss: 0.6333 - dense_6_mae: 0.6023 - dense_7_mae: 0.6407 - val_loss: 1.4361 - val_dense_6_loss: 0.7508 - val_dense_7_loss: 0.6853 - val_dense_6_mae: 0.6572 - val_dense_7_mae: 0.6480\n",
            "Epoch 10/10\n",
            "585/585 [==============================] - 20s 34ms/step - loss: 1.2034 - dense_6_loss: 0.5750 - dense_7_loss: 0.6284 - dense_6_mae: 0.5928 - dense_7_mae: 0.6364 - val_loss: 1.3741 - val_dense_6_loss: 0.6970 - val_dense_7_loss: 0.6771 - val_dense_6_mae: 0.6306 - val_dense_7_mae: 0.6758\n",
            "147/147 [==============================] - 2s 13ms/step - loss: 1.3741 - dense_6_loss: 0.6970 - dense_7_loss: 0.6771 - dense_6_mae: 0.6306 - dense_7_mae: 0.6758\n",
            "Quality MAE: 0.6306160092353821\n",
            "Difficulty MAE: 0.6757775545120239\n"
          ]
        }
      ],
      "source": [
        "# Transformer Model Architecture\n",
        "input_layer = Input(shape=(maxlen,))\n",
        "x = Embedding(len(word_index) + 1, embedding_dim, weights=[embedding_matrix], input_length=maxlen, trainable=False)(input_layer)\n",
        "x *= tf.math.sqrt(tf.cast(embedding_dim, tf.float32))\n",
        "x += positional_encoding(maxlen, embedding_dim)\n",
        "x = transformer_block(x, num_heads=8, d_model=embedding_dim)\n",
        "\n",
        "# Output layers for quality and difficulty\n",
        "x = GlobalAveragePooling1D()(x)\n",
        "output_quality = Dense(1, activation='linear')(x)\n",
        "output_difficulty = Dense(1, activation='linear')(x)\n",
        "\n",
        "# Model Compilation\n",
        "model = Model(inputs=input_layer, outputs=[output_quality, output_difficulty])\n",
        "model.compile(optimizer='adam', loss='mean_squared_error', metrics=['mae'])\n",
        "\n",
        "# Model Training\n",
        "history = model.fit(x_train, [y_train_quality, y_train_difficulty], epochs=10, batch_size=32, validation_data=(x_test, [y_test_quality, y_test_difficulty]))\n",
        "\n",
        "# Evaluate the model\n",
        "overall_loss, quality_loss, difficulty_loss, quality_mae, difficulty_mae = model.evaluate(x_test, [y_test_quality, y_test_difficulty])\n",
        "print(\"Quality MAE:\", quality_mae)\n",
        "print(\"Difficulty MAE:\", difficulty_mae)"
      ]
    },
    {
      "cell_type": "markdown",
      "source": [
        "### Results"
      ],
      "metadata": {
        "id": "ySunJ2vZUq04"
      }
    },
    {
      "cell_type": "code",
      "source": [
        "# Verify keys available for history to display\n",
        "print(history.history.keys())"
      ],
      "metadata": {
        "colab": {
          "base_uri": "https://localhost:8080/"
        },
        "id": "l5AyL2LKU1DW",
        "outputId": "d93c5424-c19d-4f02-a22b-d566718d6363"
      },
      "execution_count": null,
      "outputs": [
        {
          "output_type": "stream",
          "name": "stdout",
          "text": [
            "dict_keys(['loss', 'dense_6_loss', 'dense_7_loss', 'dense_6_mae', 'dense_7_mae', 'val_loss', 'val_dense_6_loss', 'val_dense_7_loss', 'val_dense_6_mae', 'val_dense_7_mae'])\n"
          ]
        }
      ]
    },
    {
      "cell_type": "markdown",
      "source": [
        "#### Quality results"
      ],
      "metadata": {
        "id": "jrT3ciqSZxbv"
      }
    },
    {
      "cell_type": "markdown",
      "source": [
        "Quality Loss"
      ],
      "metadata": {
        "id": "RTnRj5oiWsQj"
      }
    },
    {
      "cell_type": "code",
      "source": [
        "# Plot Quality Loss\n",
        "import matplotlib.pyplot as plt\n",
        "\n",
        "history_dict = history.history\n",
        "qLoss = history_dict['dense_6_loss']\n",
        "val_qLoss = history_dict['val_dense_6_loss']\n",
        "epochs = range(1, len(qLoss) + 1)\n",
        "\n",
        "plt.figure(figsize=(16, 5))\n",
        "\n",
        "plt.subplot(1, 2, 1)\n",
        "plt.plot(epochs, qLoss, 'bo-', label='Training loss')\n",
        "plt.plot(epochs, val_qLoss, 'r-', label='Validation loss')\n",
        "plt.title('Quality - Loss during training')\n",
        "plt.xlabel('Epochs')\n",
        "plt.ylabel('Loss')\n",
        "plt.legend()\n",
        "\n",
        "plt.show()"
      ],
      "metadata": {
        "colab": {
          "base_uri": "https://localhost:8080/",
          "height": 487
        },
        "id": "r8J4nSj-Vgq_",
        "outputId": "a867f469-b3b0-4cbb-9859-7f5843820b97"
      },
      "execution_count": null,
      "outputs": [
        {
          "output_type": "display_data",
          "data": {
            "text/plain": [
              "<Figure size 1600x500 with 1 Axes>"
            ],
            "image/png": "[encoded data removed]"
          },
          "metadata": {}
        }
      ]
    },
    {
      "cell_type": "code",
      "source": [
        "# Plot Quality MAE\n",
        "qmae = history_dict['dense_6_mae']\n",
        "val_qmae = history_dict['val_dense_6_mae']\n",
        "\n",
        "plt.figure(figsize=(16, 5))\n",
        "\n",
        "plt.subplot(1, 2, 1)\n",
        "plt.plot(epochs, qmae, 'bo-', label='MAE')\n",
        "plt.plot(epochs, val_qmae, 'r-', label='Validation MAE')\n",
        "plt.title('Quality - MAE during training')\n",
        "plt.xlabel('Epochs')\n",
        "plt.ylabel('MAE')\n",
        "plt.legend()\n",
        "\n",
        "plt.show()"
      ],
      "metadata": {
        "colab": {
          "base_uri": "https://localhost:8080/",
          "height": 487
        },
        "id": "6LndsglyXyKn",
        "outputId": "bf16835f-7751-4622-8586-24a79beea722"
      },
      "execution_count": null,
      "outputs": [
        {
          "output_type": "display_data",
          "data": {
            "text/plain": [
              "<Figure size 1600x500 with 1 Axes>"
            ],
            "image/png": "[encoded data removed]"
          },
          "metadata": {}
        }
      ]
    },
    {
      "cell_type": "markdown",
      "source": [
        "#### Difficulty Results"
      ],
      "metadata": {
        "id": "V8uAGkRtZ4v8"
      }
    },
    {
      "cell_type": "code",
      "source": [
        "# Plot Difficulty Loss\n",
        "import matplotlib.pyplot as plt\n",
        "\n",
        "history_dict = history.history\n",
        "dLoss = history_dict['dense_7_loss']\n",
        "val_dLoss = history_dict['val_dense_7_loss']\n",
        "epochs = range(1, len(dLoss) + 1)\n",
        "\n",
        "plt.figure(figsize=(16, 5))\n",
        "\n",
        "plt.subplot(1, 2, 1)\n",
        "plt.plot(epochs, dLoss, 'bo-', label='Training loss')\n",
        "plt.plot(epochs, val_dLoss, 'r-', label='Validation loss')\n",
        "plt.title('Difficulty - Loss during training')\n",
        "plt.xlabel('Epochs')\n",
        "plt.ylabel('Loss')\n",
        "plt.legend()\n",
        "\n",
        "plt.show()"
      ],
      "metadata": {
        "colab": {
          "base_uri": "https://localhost:8080/",
          "height": 487
        },
        "id": "6snAwuKyYc2o",
        "outputId": "fdae5c54-a033-4c34-c1f7-43672a4ba3d1"
      },
      "execution_count": null,
      "outputs": [
        {
          "output_type": "display_data",
          "data": {
            "text/plain": [
              "<Figure size 1600x500 with 1 Axes>"
            ],
            "image/png": "[encoded data removed]"
          },
          "metadata": {}
        }
      ]
    },
    {
      "cell_type": "code",
      "source": [
        "# Plot Difficulty MAE\n",
        "dmae = history_dict['dense_7_mae']\n",
        "val_dmae = history_dict['val_dense_7_mae']\n",
        "\n",
        "plt.figure(figsize=(16, 5))\n",
        "\n",
        "plt.subplot(1, 2, 1)\n",
        "plt.plot(epochs, dmae, 'bo-', label='MAE')\n",
        "plt.plot(epochs, val_dmae, 'r-', label='Validation MAE')\n",
        "plt.title('Difficulty - MAE during training')\n",
        "plt.xlabel('Epochs')\n",
        "plt.ylabel('MAE')\n",
        "plt.legend()\n",
        "\n",
        "plt.show()"
      ],
      "metadata": {
        "colab": {
          "base_uri": "https://localhost:8080/",
          "height": 487
        },
        "id": "ckfPcxbhYtmK",
        "outputId": "81a65f79-5ade-4edf-a8bb-7333505679d6"
      },
      "execution_count": null,
      "outputs": [
        {
          "output_type": "display_data",
          "data": {
            "text/plain": [
              "<Figure size 1600x500 with 1 Axes>"
            ],
            "image/png": "[encoded data removed]"
          },
          "metadata": {}
        }
      ]
    },
    {
      "cell_type": "markdown",
      "source": [
        "# Large Dataset (only)\n",
        "\n",
        "This section of code is intended to document some of the different approaches our group took to improving our code over time."
      ],
      "metadata": {
        "id": "2H294_WfNFsH"
      }
    },
    {
      "cell_type": "markdown",
      "source": [
        "## Embedding"
      ],
      "metadata": {
        "id": "eg8KnDmzQIFr"
      }
    },
    {
      "cell_type": "markdown",
      "metadata": {
        "id": "4xwqkDVqOyxY"
      },
      "source": [
        "Import collab"
      ]
    },
    {
      "cell_type": "code",
      "execution_count": null,
      "metadata": {
        "colab": {
          "base_uri": "https://localhost:8080/"
        },
        "outputId": "c29ec9e9-1b21-4b93-c62d-1d42f6a1ecde",
        "id": "lfhMb-E7OyxY"
      },
      "outputs": [
        {
          "output_type": "stream",
          "name": "stdout",
          "text": [
            "Mounted at /content/drive\n"
          ]
        }
      ],
      "source": [
        "from google.colab import drive\n",
        "drive.mount('/content/drive')\n"
      ]
    },
    {
      "cell_type": "markdown",
      "metadata": {
        "id": "ZI6deTlGOyxY"
      },
      "source": [
        "Import libraries"
      ]
    },
    {
      "cell_type": "code",
      "execution_count": null,
      "metadata": {
        "id": "PivsNu_uOyxZ"
      },
      "outputs": [],
      "source": [
        "import pandas as pd\n",
        "import numpy as np\n",
        "from sklearn.model_selection import train_test_split\n",
        "from tensorflow.keras.preprocessing.text import Tokenizer\n",
        "from tensorflow.keras.preprocessing.sequence import pad_sequences\n",
        "from tensorflow.keras.models import Sequential, Model\n",
        "from tensorflow.keras.layers import Embedding, LSTM, Dense, Bidirectional\n",
        "from tensorflow.keras.layers import LayerNormalization, Dropout, Input\n",
        "from tensorflow.keras.layers import MultiHeadAttention, GlobalAveragePooling1D\n",
        "import tensorflow as tf"
      ]
    },
    {
      "cell_type": "markdown",
      "metadata": {
        "id": "0MChb2bQOyxZ"
      },
      "source": [
        "grab RateMyProfessor_Sample data.csv data from location in MyDrive"
      ]
    },
    {
      "cell_type": "code",
      "execution_count": null,
      "metadata": {
        "id": "5QCSKF5KOyxZ"
      },
      "outputs": [],
      "source": [
        "dataset_path = '/content/drive/MyDrive/Colab Notebooks/RateMyProfessor_Sample data.csv'\n",
        "df = pd.read_csv(dataset_path)"
      ]
    },
    {
      "cell_type": "markdown",
      "source": [
        "### Preprocessing"
      ],
      "metadata": {
        "id": "nzrps-LjQMuz"
      }
    },
    {
      "cell_type": "markdown",
      "metadata": {
        "id": "j1gl_pjwOyxZ"
      },
      "source": [
        "preprocess data and extract text and labels"
      ]
    },
    {
      "cell_type": "code",
      "execution_count": null,
      "metadata": {
        "id": "MH07qLWAOyxZ"
      },
      "outputs": [],
      "source": [
        "df = df.dropna(subset=['comments', 'student_star', 'student_difficult'])\n",
        "comments = df['comments'].values\n",
        "quality_labels = df['student_star'].values\n",
        "difficulty_labels = df['student_difficult'].values"
      ]
    },
    {
      "cell_type": "code",
      "source": [
        "!pip install contractions\n"
      ],
      "metadata": {
        "colab": {
          "base_uri": "https://localhost:8080/"
        },
        "id": "3KnPtNK7lBfy",
        "outputId": "ee57cecf-0c8f-489f-a20c-205fd6e29155"
      },
      "execution_count": null,
      "outputs": [
        {
          "output_type": "stream",
          "name": "stdout",
          "text": [
            "Collecting contractions\n",
            "  Downloading contractions-0.1.73-py2.py3-none-any.whl (8.7 kB)\n",
            "Collecting textsearch>=0.0.21 (from contractions)\n",
            "  Downloading textsearch-0.0.24-py2.py3-none-any.whl (7.6 kB)\n",
            "Collecting anyascii (from textsearch>=0.0.21->contractions)\n",
            "  Downloading anyascii-0.3.2-py3-none-any.whl (289 kB)\n",
            "\u001b[2K     \u001b[90m━━━━━━━━━━━━━━━━━━━━━━━━━━━━━━━━━━━━━━━━\u001b[0m \u001b[32m289.9/289.9 kB\u001b[0m \u001b[31m2.4 MB/s\u001b[0m eta \u001b[36m0:00:00\u001b[0m\n",
            "\u001b[?25hCollecting pyahocorasick (from textsearch>=0.0.21->contractions)\n",
            "  Downloading pyahocorasick-2.1.0-cp310-cp310-manylinux_2_5_x86_64.manylinux1_x86_64.manylinux_2_12_x86_64.manylinux2010_x86_64.whl (110 kB)\n",
            "\u001b[2K     \u001b[90m━━━━━━━━━━━━━━━━━━━━━━━━━━━━━━━━━━━━━━━━\u001b[0m \u001b[32m110.7/110.7 kB\u001b[0m \u001b[31m13.0 MB/s\u001b[0m eta \u001b[36m0:00:00\u001b[0m\n",
            "\u001b[?25hInstalling collected packages: pyahocorasick, anyascii, textsearch, contractions\n",
            "Successfully installed anyascii-0.3.2 contractions-0.1.73 pyahocorasick-2.1.0 textsearch-0.0.24\n"
          ]
        }
      ]
    },
    {
      "cell_type": "code",
      "source": [
        "import pandas as pd\n",
        "import contractions\n",
        "import re\n",
        "\n",
        "# Assuming you've already imported your data and created the DataFrame 'df'\n",
        "\n",
        "# Drop rows with NaN values in specified columns\n",
        "df = df.dropna(subset=['comments', 'student_star', 'student_difficult'])\n",
        "\n",
        "# Create a new column to store the comments before applying contractions\n",
        "df['comments_before'] = df['comments']\n",
        "\n",
        "# Expand contractions in the 'comments' column\n",
        "df['comments'] = df['comments'].apply(contractions.fix)\n",
        "\n",
        "# Lowercasing\n",
        "df['comments'] = df['comments'].str.lower()\n",
        "\n",
        "# Removing Punctuation and Special Characters\n",
        "df['comments'] = df['comments'].apply(lambda x: re.sub(r'[^\\w\\s-]', '', x))\n",
        "df['comments'] = df['comments'].apply(lambda x: x.replace('/', ' '))\n",
        "\n",
        "df['comments'] = df['comments'].apply(lambda x: re.sub(r'(\\w+)\\s?/\\s?(\\w+)', r'\\1 \\2', x))\n",
        "\n",
        "\n",
        "\n",
        "\n",
        "# Extract columns\n",
        "comments_before = df['comments_before'].values\n",
        "comments_after = df['comments'].values\n",
        "\n",
        "# Print some comments before and after\n",
        "for i in range(10):\n",
        "    print(\"Before:\", comments_before[i])\n",
        "    print(\"After:\", comments_after[i])\n",
        "    print(\"-------------------------\")\n"
      ],
      "metadata": {
        "colab": {
          "base_uri": "https://localhost:8080/"
        },
        "id": "x-vppMCclGNN",
        "outputId": "c76e395d-c78a-4daf-ff0d-664cde1f53db"
      },
      "execution_count": null,
      "outputs": [
        {
          "output_type": "stream",
          "name": "stdout",
          "text": [
            "Before: This class is hard, but its a two-in-one gen-ed knockout, and the content is very stimulating. Unlike most classes, you have to actually participate to pass. Sections are easy and offer extra credit every week. Very funny dude. Not much more I can say.\n",
            "After: this class is hard but its a two-in-one gen-ed knockout and the content is very stimulating unlike most classes you have to actually participate to pass sections are easy and offer extra credit every week very funny dude not much more i can say\n",
            "-------------------------\n",
            "Before: Definitely going to choose Prof. Looney\\'s class again! Interesting class and easy A. You can bring notes to exams so you don\\'t need to remember a lot. Lots of bonus points available and the observatory sessions are awesome!\n",
            "After: definitely going to choose prof looneys class again interesting class and easy a you can bring notes to exams so you dont need to remember a lot lots of bonus points available and the observatory sessions are awesome\n",
            "-------------------------\n",
            "Before: I overall enjoyed this class because the assignments were straightforward and interesting. I just didn\\'t enjoy the video project because I felt like no one in my group cared enough to help.\n",
            "After: i overall enjoyed this class because the assignments were straightforward and interesting i just didnt enjoy the video project because i felt like no one in my group cared enough to help\n",
            "-------------------------\n",
            "Before: Yes, it\\'s possible to get an A but you\\'ll definitely have to work for it. The content is pretty interesting, but you have tog get super organized in this class. You\\'ll have multiple things due every week and a ton lectures to go over. If possible, I\\'d avoid this class as an 8 week course. You\\'ll definitely always have somethingto do in this class.\n",
            "After: yes its possible to get an a but you will definitely have to work for it the content is pretty interesting but you have tog get super organized in this class you will have multiple things due every week and a ton lectures to go over if possible i would avoid this class as an 8 week course you will definitely always have somethingto do in this class\n",
            "-------------------------\n",
            "Before: Professor Looney has great knowledge in Astronomy, while he can explain them in a super easy way in an elementary class. He taught this class with great passion and great illustration. This class is definitely fun to take. If you are interested in further knowledge that this class won\\'t cover, don\\'t hesitate to ask him. Great teacher.\n",
            "After: professor looney has great knowledge in astronomy while he can explain them in a super easy way in an elementary class he taught this class with great passion and great illustration this class is definitely fun to take if you are interested in further knowledge that this class wont cover dont hesitate to ask him great teacher\n",
            "-------------------------\n",
            "Before: Looney is a super funny guy and this class was really interesting. It wasn\\'t a complete blow off, but it wasn\\'t too bad. Just do all the homework/observation sessions and study a bit the night before exams and you should pull an A. I would definitely recommend him for a science gen ed. There was no text book and no final.\n",
            "After: looney is a super funny guy and this class was really interesting it wasnt a complete blow off but it wasnt too bad just do all the homeworkobservation sessions and study a bit the night before exams and you should pull an a i would definitely recommend him for a science gen ed there was no text book and no final\n",
            "-------------------------\n",
            "Before: Professor Looney is the BOMB. He is a truly good teacher, and really explains material thoroughly. He is also absolutely hilarious and makes me laugh every class. I would highly recommend him and this course to anyone - I am far from a science-lover, but this class has helped me enjoy, I repeat, ENJOY science!!\n",
            "After: professor looney is the bomb he is a truly good teacher and really explains material thoroughly he is also absolutely hilarious and makes me laugh every class i would highly recommend him and this course to anyone - i am far from a science-lover but this class has helped me enjoy i repeat enjoy science\n",
            "-------------------------\n",
            "Before: Professor Leslie Looney is honestly amazing. I would call this my first positive experience with a science class! In addition to being truly GOOD at teaching, he makes class interesting. I literally lol almost every period. LOONEY FOREVER!!!\n",
            "After: professor leslie looney is honestly amazing i would call this my first positive experience with a science class in addition to being truly good at teaching he makes class interesting i literally lol almost every period looney forever\n",
            "-------------------------\n",
            "Before: Looney is a beast. Best prof on campus and this class is extremely interesting. It is the easiest astronomy and physical science class you will find.\n",
            "After: looney is a beast best prof on campus and this class is extremely interesting it is the easiest astronomy and physical science class you will find\n",
            "-------------------------\n",
            "Before: The homework, exams, and lab could trip you up if you\\'re expecting a blow-off class, but otherwise its great. Looney is very enthusiastic and the course is full of interesting content\n",
            "After: the homework exams and lab could trip you up if you are expecting a blow-off class but otherwise its great looney is very enthusiastic and the course is full of interesting content\n",
            "-------------------------\n"
          ]
        }
      ]
    },
    {
      "cell_type": "code",
      "source": [
        "\n",
        "comments = df['comments'].values\n",
        "quality_labels = df['student_star'].values\n",
        "difficulty_labels = df['student_difficult'].values"
      ],
      "metadata": {
        "id": "hbAcrns7lJGY"
      },
      "execution_count": null,
      "outputs": []
    },
    {
      "cell_type": "code",
      "source": [
        "import numpy as np\n",
        "\n",
        "# Count NaN values in quality labels\n",
        "quality_empty_count = np.isnan(quality_labels).sum()\n",
        "\n",
        "# Count NaN values in difficulty labels\n",
        "difficulty_empty_count = np.isnan(difficulty_labels).sum()\n",
        "\n",
        "print(\"Number of empty quality labels:\", quality_empty_count)\n",
        "print(\"Number of empty difficulty labels:\", difficulty_empty_count)\n"
      ],
      "metadata": {
        "colab": {
          "base_uri": "https://localhost:8080/"
        },
        "id": "Hm9otcPclMF2",
        "outputId": "d800a511-714f-438e-90b8-f4423ac9b741"
      },
      "execution_count": null,
      "outputs": [
        {
          "output_type": "stream",
          "name": "stdout",
          "text": [
            "Number of empty quality labels: 0\n",
            "Number of empty difficulty labels: 0\n"
          ]
        }
      ]
    },
    {
      "cell_type": "code",
      "source": [
        "import numpy as np\n",
        "\n",
        "# Get unique quality labels\n",
        "unique_quality_labels = np.unique(quality_labels[~np.isnan(quality_labels)])\n",
        "\n",
        "# Get unique difficulty labels\n",
        "unique_difficulty_labels = np.unique(difficulty_labels[~np.isnan(difficulty_labels)])\n",
        "\n",
        "# Count number of unique quality labels\n",
        "num_unique_quality_labels = len(unique_quality_labels)\n",
        "\n",
        "# Count number of unique difficulty labels\n",
        "num_unique_difficulty_labels = len(unique_difficulty_labels)\n",
        "\n",
        "print(\"Number of unique quality labels:\", num_unique_quality_labels)\n",
        "print(\"Unique quality labels:\", unique_quality_labels)\n",
        "\n",
        "print(\"Number of unique difficulty labels:\", num_unique_difficulty_labels)\n",
        "print(\"Unique difficulty labels:\", unique_difficulty_labels)\n"
      ],
      "metadata": {
        "colab": {
          "base_uri": "https://localhost:8080/"
        },
        "id": "_byCHmcPlOEo",
        "outputId": "b162eee2-bb47-456b-9e33-2c5a7b71d1c9"
      },
      "execution_count": null,
      "outputs": [
        {
          "output_type": "stream",
          "name": "stdout",
          "text": [
            "Number of unique quality labels: 9\n",
            "Unique quality labels: [1.  1.5 2.  2.5 3.  3.5 4.  4.5 5. ]\n",
            "Number of unique difficulty labels: 5\n",
            "Unique difficulty labels: [1. 2. 3. 4. 5.]\n"
          ]
        }
      ]
    },
    {
      "cell_type": "code",
      "source": [
        "# Define classification thresholds for quality labels\n",
        "quality_thresholds = [0, 2.5, 3.5, 5]\n",
        "\n",
        "# Define classification thresholds for difficulty labels\n",
        "difficulty_thresholds = [0, 2, 3, 5]\n",
        "\n",
        "# Convert labels to classes\n",
        "quality_classes = np.digitize(quality_labels, bins=quality_thresholds) - 1\n",
        "difficulty_classes = np.digitize(difficulty_labels, bins=difficulty_thresholds) - 1\n"
      ],
      "metadata": {
        "id": "LxuKjwlylQcL"
      },
      "execution_count": null,
      "outputs": []
    },
    {
      "cell_type": "code",
      "source": [
        "# Get unique quality labels\n",
        "unique_quality_labels = np.unique(quality_classes[~np.isnan(quality_classes)])\n",
        "\n",
        "# Get unique difficulty labels\n",
        "unique_difficulty_labels = np.unique(difficulty_classes[~np.isnan(difficulty_classes)])\n",
        "\n",
        "print(unique_quality_labels)\n",
        "print(unique_difficulty_labels)\n",
        "print(quality_labels)"
      ],
      "metadata": {
        "colab": {
          "base_uri": "https://localhost:8080/"
        },
        "id": "azxW3ZnRlR-y",
        "outputId": "5486d89b-0303-42da-f273-5a53342c632f"
      },
      "execution_count": null,
      "outputs": [
        {
          "output_type": "stream",
          "name": "stdout",
          "text": [
            "[0 1 2 3]\n",
            "[0 1 2 3]\n",
            "[5. 5. 4. ... 5. 4. 5.]\n"
          ]
        }
      ]
    },
    {
      "cell_type": "markdown",
      "metadata": {
        "id": "eGTy4vRxOyxa"
      },
      "source": [
        "Tokenization"
      ]
    },
    {
      "cell_type": "code",
      "execution_count": null,
      "metadata": {
        "id": "aSuOvXz9SawH"
      },
      "outputs": [],
      "source": [
        "tokenizer = Tokenizer(num_words=10000)\n",
        "tokenizer.fit_on_texts(comments)\n",
        "sequences = tokenizer.texts_to_sequences(comments)\n",
        "maxlen = 100  # Assuming a maximum sequence length of 100\n",
        "data = pad_sequences(sequences, maxlen=maxlen)"
      ]
    },
    {
      "cell_type": "markdown",
      "metadata": {
        "id": "RJFoqNLXOyxb"
      },
      "source": [
        "Split the dataset with a test size of 20%"
      ]
    },
    {
      "cell_type": "code",
      "execution_count": null,
      "metadata": {
        "id": "JlW_9tCfOyxb"
      },
      "outputs": [],
      "source": [
        "x_train, x_test, y_train_quality, y_test_quality, y_train_difficulty, y_test_difficulty = train_test_split(\n",
        "    data, quality_classes, difficulty_classes, test_size=0.2, random_state=42)"
      ]
    },
    {
      "cell_type": "markdown",
      "metadata": {
        "id": "Fz1E5VnnOyxb"
      },
      "source": [
        "Create embedding matrix"
      ]
    },
    {
      "cell_type": "code",
      "execution_count": null,
      "metadata": {
        "id": "X1P2EOjaOyxb"
      },
      "outputs": [],
      "source": [
        "embeddings_index = {}\n",
        "with open('/content/drive/MyDrive/Colab Notebooks/glove/glove.6B.300d.txt', encoding='utf-8') as f:\n",
        "    next(f)  # Skip the header line\n",
        "    for line in f:\n",
        "        values = line.split()\n",
        "        word = values[0]\n",
        "        if len(values) > 1:\n",
        "            coefs = np.asarray(values[1:], dtype='float32')\n",
        "            embeddings_index[word] = coefs\n",
        "\n",
        "# Create an embedding matrix\n",
        "word_index = tokenizer.word_index\n",
        "embedding_dim = 300\n",
        "embedding_matrix = np.zeros((len(word_index) + 1, embedding_dim))\n",
        "for word, i in word_index.items():\n",
        "    embedding_vector = embeddings_index.get(word)\n",
        "    if embedding_vector is not None:\n",
        "        # Words not found in embedding index will be all-zeros.\n",
        "        embedding_matrix[i] = embedding_vector"
      ]
    },
    {
      "cell_type": "code",
      "source": [
        "print(x_train.shape)\n",
        "print(y_train_quality.shape)\n",
        "print(x_test.shape)\n",
        "print(y_test_quality.shape)"
      ],
      "metadata": {
        "colab": {
          "base_uri": "https://localhost:8080/"
        },
        "id": "97dWNUb_ljUv",
        "outputId": "7629e81a-cc78-4504-b614-fe27eb52ad47"
      },
      "execution_count": null,
      "outputs": [
        {
          "output_type": "stream",
          "name": "stdout",
          "text": [
            "(15994, 100)\n",
            "(15994,)\n",
            "(3999, 100)\n",
            "(3999,)\n"
          ]
        }
      ]
    },
    {
      "cell_type": "markdown",
      "source": [
        "## RNN"
      ],
      "metadata": {
        "id": "N8_BeEy-R--t"
      }
    },
    {
      "cell_type": "markdown",
      "source": [
        "### Regression"
      ],
      "metadata": {
        "id": "zXEiuNbJSIy5"
      }
    },
    {
      "cell_type": "markdown",
      "metadata": {
        "id": "phhheFAhOyxb"
      },
      "source": [
        "Define the RNN model architecture for quality prediction, includes compiling, training and evaulation based of 10 epochs with a batch size of 32."
      ]
    },
    {
      "cell_type": "code",
      "execution_count": null,
      "metadata": {
        "colab": {
          "base_uri": "https://localhost:8080/"
        },
        "outputId": "9071cbf3-91a4-4bfd-8bb7-eea3e512e32f",
        "id": "bFfGCKFqOyxc"
      },
      "outputs": [
        {
          "output_type": "stream",
          "name": "stdout",
          "text": [
            "Epoch 1/50\n",
            "500/500 [==============================] - ETA: 0s - loss: 0.9915 - mae: 0.8222\n",
            "Epoch 1: val_mae improved from inf to 0.67322, saving model to quality_model_checkpoint.h5\n",
            "500/500 [==============================] - 127s 246ms/step - loss: 0.9915 - mae: 0.8222 - val_loss: 0.7059 - val_mae: 0.6732\n",
            "Epoch 2/50\n",
            "500/500 [==============================] - ETA: 0s - loss: 0.6708 - mae: 0.6558\n",
            "Epoch 2: val_mae improved from 0.67322 to 0.64602, saving model to quality_model_checkpoint.h5\n",
            "500/500 [==============================] - 122s 245ms/step - loss: 0.6708 - mae: 0.6558 - val_loss: 0.6455 - val_mae: 0.6460\n",
            "Epoch 3/50\n",
            "500/500 [==============================] - ETA: 0s - loss: 0.6055 - mae: 0.6164\n",
            "Epoch 3: val_mae improved from 0.64602 to 0.63817, saving model to quality_model_checkpoint.h5\n",
            "500/500 [==============================] - 115s 230ms/step - loss: 0.6055 - mae: 0.6164 - val_loss: 0.6490 - val_mae: 0.6382\n",
            "Epoch 4/50\n",
            "500/500 [==============================] - ETA: 0s - loss: 0.5627 - mae: 0.5900\n",
            "Epoch 4: val_mae did not improve from 0.63817\n",
            "500/500 [==============================] - 109s 218ms/step - loss: 0.5627 - mae: 0.5900 - val_loss: 0.6666 - val_mae: 0.6457\n",
            "Epoch 5/50\n",
            "500/500 [==============================] - ETA: 0s - loss: 0.5203 - mae: 0.5636\n",
            "Epoch 5: val_mae improved from 0.63817 to 0.61268, saving model to quality_model_checkpoint.h5\n",
            "500/500 [==============================] - 109s 219ms/step - loss: 0.5203 - mae: 0.5636 - val_loss: 0.6210 - val_mae: 0.6127\n",
            "Epoch 6/50\n",
            "500/500 [==============================] - ETA: 0s - loss: 0.4849 - mae: 0.5416\n",
            "Epoch 6: val_mae improved from 0.61268 to 0.60030, saving model to quality_model_checkpoint.h5\n",
            "500/500 [==============================] - 112s 224ms/step - loss: 0.4849 - mae: 0.5416 - val_loss: 0.5952 - val_mae: 0.6003\n",
            "Epoch 7/50\n",
            "500/500 [==============================] - ETA: 0s - loss: 0.4546 - mae: 0.5233\n",
            "Epoch 7: val_mae did not improve from 0.60030\n",
            "500/500 [==============================] - 117s 235ms/step - loss: 0.4546 - mae: 0.5233 - val_loss: 0.5988 - val_mae: 0.6044\n",
            "Epoch 8/50\n",
            "500/500 [==============================] - ETA: 0s - loss: 0.4192 - mae: 0.5001\n",
            "Epoch 8: val_mae did not improve from 0.60030\n",
            "500/500 [==============================] - 110s 219ms/step - loss: 0.4192 - mae: 0.5001 - val_loss: 0.6514 - val_mae: 0.6253\n",
            "Epoch 9/50\n",
            "500/500 [==============================] - ETA: 0s - loss: 0.3877 - mae: 0.4787\n",
            "Epoch 9: val_mae did not improve from 0.60030\n",
            "500/500 [==============================] - 108s 216ms/step - loss: 0.3877 - mae: 0.4787 - val_loss: 0.6241 - val_mae: 0.6070\n",
            "Epoch 10/50\n",
            "500/500 [==============================] - ETA: 0s - loss: 0.3570 - mae: 0.4575\n",
            "Epoch 10: val_mae did not improve from 0.60030\n",
            "500/500 [==============================] - 113s 225ms/step - loss: 0.3570 - mae: 0.4575 - val_loss: 0.6251 - val_mae: 0.6121\n",
            "Epoch 11/50\n",
            "500/500 [==============================] - ETA: 0s - loss: 0.3293 - mae: 0.4364\n",
            "Epoch 11: val_mae did not improve from 0.60030\n",
            "Restoring model weights from the end of the best epoch: 6.\n",
            "500/500 [==============================] - 118s 236ms/step - loss: 0.3293 - mae: 0.4364 - val_loss: 0.6365 - val_mae: 0.6176\n",
            "Epoch 11: early stopping\n",
            "125/125 [==============================] - 9s 74ms/step - loss: 0.5952 - mae: 0.6003\n",
            "quality prediction: 0.6002991199493408\n"
          ]
        }
      ],
      "source": [
        "from keras.callbacks import ModelCheckpoint, EarlyStopping\n",
        "\n",
        "# Define a callback to save the best model during training\n",
        "checkpoint_path = \"quality_model_regress_checkpoint.h5\"\n",
        "checkpoint = ModelCheckpoint(checkpoint_path, monitor='val_mae', verbose=1, save_best_only=True, mode='min')\n",
        "\n",
        "# Define early stopping callback\n",
        "early_stopping = EarlyStopping(monitor='val_mae', patience=5, verbose=1, mode='min', restore_best_weights=True)\n",
        "\n",
        "quality_model = Sequential()\n",
        "quality_model.add(Embedding(len(word_index) + 1, embedding_dim, weights=[embedding_matrix],\n",
        "                            input_length=maxlen, trainable=False))\n",
        "quality_model.add(Bidirectional(LSTM(64)))\n",
        "quality_model.add(Dense(1, activation='linear'))\n",
        "\n",
        "# Compile the quality model\n",
        "quality_model.compile(optimizer='adam', loss='mean_squared_error', metrics=['mae'])\n",
        "\n",
        "# Train the quality model\n",
        "quality_model.fit(x_train, y_train_quality, epochs=50, batch_size=32, validation_data=(x_test, y_test_quality), callbacks=[checkpoint, early_stopping])\n",
        "\n",
        "# Evaluate the quality model\n",
        "quality_loss, quality_mae = quality_model.evaluate(x_test, y_test_quality)\n",
        "print(\"quality prediction:\", quality_mae)\n"
      ]
    },
    {
      "cell_type": "markdown",
      "metadata": {
        "id": "x84wdu1dYLgF"
      },
      "source": [
        "quality prediction: 0.6002991199493408"
      ]
    },
    {
      "cell_type": "markdown",
      "metadata": {
        "id": "GrFnf2zvOyxc"
      },
      "source": [
        "Run the same as above but now for difficulty predictions"
      ]
    },
    {
      "cell_type": "code",
      "execution_count": null,
      "metadata": {
        "colab": {
          "base_uri": "https://localhost:8080/"
        },
        "id": "2YsgS99u_6Ir",
        "outputId": "9bf977cb-a185-402e-ec3f-ab980843d986"
      },
      "outputs": [
        {
          "output_type": "stream",
          "name": "stdout",
          "text": [
            "Epoch 1/50\n",
            "500/500 [==============================] - ETA: 0s - loss: 0.8702 - mae: 0.7651\n",
            "Epoch 1: val_mae improved from inf to 0.74305, saving model to quality_model_checkpoint.h5\n",
            "500/500 [==============================] - 124s 240ms/step - loss: 0.8702 - mae: 0.7651 - val_loss: 0.7753 - val_mae: 0.7430\n",
            "Epoch 2/50\n",
            "500/500 [==============================] - ETA: 0s - loss: 0.7145 - mae: 0.6880\n",
            "Epoch 2: val_mae improved from 0.74305 to 0.68687, saving model to quality_model_checkpoint.h5\n",
            "500/500 [==============================] - 120s 241ms/step - loss: 0.7145 - mae: 0.6880 - val_loss: 0.6997 - val_mae: 0.6869\n",
            "Epoch 3/50\n",
            "500/500 [==============================] - ETA: 0s - loss: 0.6755 - mae: 0.6653\n",
            "Epoch 3: val_mae improved from 0.68687 to 0.67700, saving model to quality_model_checkpoint.h5\n",
            "500/500 [==============================] - 114s 229ms/step - loss: 0.6755 - mae: 0.6653 - val_loss: 0.6889 - val_mae: 0.6770\n",
            "Epoch 4/50\n",
            "500/500 [==============================] - ETA: 0s - loss: 0.6418 - mae: 0.6469\n",
            "Epoch 4: val_mae improved from 0.67700 to 0.67493, saving model to quality_model_checkpoint.h5\n",
            "500/500 [==============================] - 109s 217ms/step - loss: 0.6418 - mae: 0.6469 - val_loss: 0.6936 - val_mae: 0.6749\n",
            "Epoch 5/50\n",
            "500/500 [==============================] - ETA: 0s - loss: 0.6112 - mae: 0.6301\n",
            "Epoch 5: val_mae improved from 0.67493 to 0.65936, saving model to quality_model_checkpoint.h5\n",
            "500/500 [==============================] - 115s 229ms/step - loss: 0.6112 - mae: 0.6301 - val_loss: 0.6816 - val_mae: 0.6594\n",
            "Epoch 6/50\n",
            "500/500 [==============================] - ETA: 0s - loss: 0.5821 - mae: 0.6139\n",
            "Epoch 6: val_mae did not improve from 0.65936\n",
            "500/500 [==============================] - 113s 225ms/step - loss: 0.5821 - mae: 0.6139 - val_loss: 0.6858 - val_mae: 0.6624\n",
            "Epoch 7/50\n",
            "500/500 [==============================] - ETA: 0s - loss: 0.5482 - mae: 0.5935\n",
            "Epoch 7: val_mae did not improve from 0.65936\n",
            "500/500 [==============================] - 112s 224ms/step - loss: 0.5482 - mae: 0.5935 - val_loss: 0.6943 - val_mae: 0.6678\n",
            "Epoch 8/50\n",
            "500/500 [==============================] - ETA: 0s - loss: 0.5153 - mae: 0.5737\n",
            "Epoch 8: val_mae did not improve from 0.65936\n",
            "500/500 [==============================] - 112s 225ms/step - loss: 0.5153 - mae: 0.5737 - val_loss: 0.7063 - val_mae: 0.6706\n",
            "Epoch 9/50\n",
            "500/500 [==============================] - ETA: 0s - loss: 0.4791 - mae: 0.5508\n",
            "Epoch 9: val_mae did not improve from 0.65936\n",
            "500/500 [==============================] - 109s 217ms/step - loss: 0.4791 - mae: 0.5508 - val_loss: 0.7482 - val_mae: 0.6966\n",
            "Epoch 10/50\n",
            "500/500 [==============================] - ETA: 0s - loss: 0.4444 - mae: 0.5264\n",
            "Epoch 10: val_mae did not improve from 0.65936\n",
            "Restoring model weights from the end of the best epoch: 5.\n",
            "500/500 [==============================] - 122s 245ms/step - loss: 0.4444 - mae: 0.5264 - val_loss: 0.7413 - val_mae: 0.6889\n",
            "Epoch 10: early stopping\n",
            "125/125 [==============================] - 9s 69ms/step - loss: 0.6816 - mae: 0.6594\n",
            "difficulty prediction: 0.65935879945755\n"
          ]
        }
      ],
      "source": [
        "from keras.callbacks import ModelCheckpoint, EarlyStopping\n",
        "\n",
        "# Define a callback to save the best model during training\n",
        "checkpoint_path = \"difficulty_model_regress_checkpoint.h5\"\n",
        "checkpoint = ModelCheckpoint(checkpoint_path, monitor='val_mae', verbose=1, save_best_only=True, mode='min')\n",
        "\n",
        "# Define early stopping callback\n",
        "early_stopping = EarlyStopping(monitor='val_mae', patience=5, verbose=1, mode='min', restore_best_weights=True)\n",
        "\n",
        "difficulty_model = Sequential()\n",
        "difficulty_model.add(Embedding(len(word_index) + 1, embedding_dim, weights=[embedding_matrix],\n",
        "                               input_length=maxlen, trainable=False))\n",
        "difficulty_model.add(Bidirectional(LSTM(64)))\n",
        "difficulty_model.add(Dense(1, activation='linear'))\n",
        "\n",
        "# Compile the difficulty model\n",
        "difficulty_model.compile(optimizer='adam', loss='mean_squared_error', metrics=['mae'])\n",
        "\n",
        "# Train the difficulty model\n",
        "difficulty_model.fit(x_train, y_train_difficulty, epochs=50, batch_size=32, validation_data=(x_test, y_test_difficulty), callbacks=[checkpoint, early_stopping])\n",
        "\n",
        "# Evaluate the difficulty model\n",
        "difficulty_loss, difficulty_mae = difficulty_model.evaluate(x_test, y_test_difficulty)\n",
        "print(\"difficulty prediction:\", difficulty_mae)\n"
      ]
    },
    {
      "cell_type": "markdown",
      "source": [
        "### Classification"
      ],
      "metadata": {
        "id": "JaoT_6EdSM9a"
      }
    },
    {
      "cell_type": "markdown",
      "source": [
        "RNN TEXT Classification Model"
      ],
      "metadata": {
        "id": "Vcg9s1UCOyxc"
      }
    },
    {
      "cell_type": "code",
      "source": [
        "from keras.utils import to_categorical\n",
        "\n",
        "# Convert labels to one-hot encoding\n",
        "quality_labels_onehot = to_categorical(quality_classes, num_classes=4)\n",
        "difficulty_labels_onehot = to_categorical(difficulty_classes, num_classes=4)"
      ],
      "metadata": {
        "id": "KTAql49Z_x4v"
      },
      "execution_count": null,
      "outputs": []
    },
    {
      "cell_type": "code",
      "source": [
        "x_train, x_test, y_train_quality, y_test_quality, y_train_difficulty, y_test_difficulty = train_test_split(\n",
        "    data, quality_labels_onehot, difficulty_labels_onehot, test_size=0.2, random_state=42)"
      ],
      "metadata": {
        "id": "tozk4k7e_5YY"
      },
      "execution_count": null,
      "outputs": []
    },
    {
      "cell_type": "code",
      "source": [
        "tokenizer = Tokenizer(num_words=10000)\n",
        "tokenizer.fit_on_texts(df['comments'].values)\n",
        "sequences = tokenizer.texts_to_sequences(df['comments'].values)\n",
        "maxlen = 100  # Assuming a maximum sequence length of 100\n",
        "data = pad_sequences(sequences, maxlen=maxlen)"
      ],
      "metadata": {
        "id": "rnmJEqRBJloK"
      },
      "execution_count": null,
      "outputs": []
    },
    {
      "cell_type": "code",
      "source": [
        "embeddings_index = {}\n",
        "with open('/content/drive/MyDrive/Colab Notebooks/glove/glove.6B.300d.txt', encoding='utf-8') as f:\n",
        "    next(f)  # Skip the header line\n",
        "    for line in f:\n",
        "        values = line.split()\n",
        "        word = values[0]\n",
        "        if len(values) > 1:\n",
        "            coefs = np.asarray(values[1:], dtype='float32')\n",
        "            embeddings_index[word] = coefs\n",
        "\n",
        "# Create an embedding matrix\n",
        "word_index = tokenizer.word_index\n",
        "embedding_dim = 300\n",
        "embedding_matrix = np.zeros((len(word_index) + 1, embedding_dim))\n",
        "for word, i in word_index.items():\n",
        "    embedding_vector = embeddings_index.get(word)\n",
        "    if embedding_vector is not None:\n",
        "        # Words not found in embedding index will be all-zeros.\n",
        "        embedding_matrix[i] = embedding_vector"
      ],
      "metadata": {
        "id": "fSoVVJCn_8eB"
      },
      "execution_count": null,
      "outputs": []
    },
    {
      "cell_type": "code",
      "source": [
        "print(x_train.shape)\n",
        "print(y_train_quality.shape)\n",
        "print(x_test.shape)\n",
        "print(y_test_quality.shape)"
      ],
      "metadata": {
        "id": "2Va93dJ4ACBP",
        "colab": {
          "base_uri": "https://localhost:8080/"
        },
        "outputId": "575932d2-3e6f-4878-d563-8fad0cbbf8be"
      },
      "execution_count": null,
      "outputs": [
        {
          "output_type": "stream",
          "name": "stdout",
          "text": [
            "(15994, 100)\n",
            "(15994, 4)\n",
            "(3999, 100)\n",
            "(3999, 4)\n"
          ]
        }
      ]
    },
    {
      "cell_type": "code",
      "source": [
        "from keras.callbacks import ModelCheckpoint, EarlyStopping\n",
        "\n",
        "# Define a callback to save the best model during training\n",
        "checkpoint_path = \"quality_model_class_checkpoint.h5\"\n",
        "checkpoint = ModelCheckpoint(checkpoint_path, monitor='val_accuracy', verbose=1, save_best_only=True, mode='max')\n",
        "\n",
        "# Define early stopping callback\n",
        "early_stopping = EarlyStopping(monitor='val_accuracy', patience=5, verbose=1, mode='max', restore_best_weights=True)\n",
        "\n",
        "# Build the quality model\n",
        "quality_model = Sequential()\n",
        "quality_model.add(Embedding(len(word_index) + 1, embedding_dim, weights=[embedding_matrix],\n",
        "                            input_length=maxlen, trainable=False))\n",
        "quality_model.add(Bidirectional(LSTM(64)))\n",
        "quality_model.add(Dense(4, activation='softmax'))  # Output 4 classes for sentiment classification\n",
        "\n",
        "# Compile the quality model\n",
        "quality_model.compile(optimizer='adam', loss='categorical_crossentropy', metrics=['accuracy'])\n",
        "\n",
        "# Train the quality model with checkpoint and early stopping callbacks\n",
        "quality_model.fit(x_train, y_train_quality, epochs=50, batch_size=32, validation_data=(x_test, y_test_quality), callbacks=[checkpoint, early_stopping])\n",
        "\n",
        "# Evaluate the quality model\n",
        "quality_loss, quality_accuracy = quality_model.evaluate(x_test, y_test_quality)\n",
        "print(\"quality prediction:\", quality_accuracy)\n"
      ],
      "metadata": {
        "colab": {
          "base_uri": "https://localhost:8080/"
        },
        "id": "iJoBoMcNKNkF",
        "outputId": "393b7119-7255-4dcd-b5bf-3420e8d6d845"
      },
      "execution_count": null,
      "outputs": [
        {
          "output_type": "stream",
          "name": "stdout",
          "text": [
            "Epoch 1/50\n",
            "500/500 [==============================] - ETA: 0s - loss: 1.0915 - accuracy: 0.5011\n",
            "Epoch 1: val_accuracy improved from -inf to 0.54789, saving model to quality_model_checkpoint.h5\n",
            "500/500 [==============================] - 127s 243ms/step - loss: 1.0915 - accuracy: 0.5011 - val_loss: 0.9904 - val_accuracy: 0.5479\n",
            "Epoch 2/50\n",
            "500/500 [==============================] - ETA: 0s - loss: 0.9607 - accuracy: 0.5739\n",
            "Epoch 2: val_accuracy improved from 0.54789 to 0.56989, saving model to quality_model_checkpoint.h5\n",
            "500/500 [==============================] - 114s 228ms/step - loss: 0.9607 - accuracy: 0.5739 - val_loss: 0.9487 - val_accuracy: 0.5699\n",
            "Epoch 3/50\n",
            "500/500 [==============================] - ETA: 0s - loss: 0.9144 - accuracy: 0.5908\n",
            "Epoch 3: val_accuracy did not improve from 0.56989\n",
            "500/500 [==============================] - 109s 218ms/step - loss: 0.9144 - accuracy: 0.5908 - val_loss: 0.9428 - val_accuracy: 0.5636\n",
            "Epoch 4/50\n",
            "500/500 [==============================] - ETA: 0s - loss: 0.8713 - accuracy: 0.6102\n",
            "Epoch 4: val_accuracy did not improve from 0.56989\n",
            "500/500 [==============================] - 114s 228ms/step - loss: 0.8713 - accuracy: 0.6102 - val_loss: 0.9309 - val_accuracy: 0.5651\n",
            "Epoch 5/50\n",
            "500/500 [==============================] - ETA: 0s - loss: 0.8286 - accuracy: 0.6346\n",
            "Epoch 5: val_accuracy improved from 0.56989 to 0.57314, saving model to quality_model_checkpoint.h5\n",
            "500/500 [==============================] - 123s 246ms/step - loss: 0.8286 - accuracy: 0.6346 - val_loss: 0.9321 - val_accuracy: 0.5731\n",
            "Epoch 6/50\n",
            "500/500 [==============================] - ETA: 0s - loss: 0.7903 - accuracy: 0.6487\n",
            "Epoch 6: val_accuracy did not improve from 0.57314\n",
            "500/500 [==============================] - 125s 251ms/step - loss: 0.7903 - accuracy: 0.6487 - val_loss: 0.9420 - val_accuracy: 0.5666\n",
            "Epoch 7/50\n",
            "500/500 [==============================] - ETA: 0s - loss: 0.7488 - accuracy: 0.6712\n",
            "Epoch 7: val_accuracy did not improve from 0.57314\n",
            "500/500 [==============================] - 109s 219ms/step - loss: 0.7488 - accuracy: 0.6712 - val_loss: 0.9797 - val_accuracy: 0.5569\n",
            "Epoch 8/50\n",
            "500/500 [==============================] - ETA: 0s - loss: 0.7026 - accuracy: 0.6931\n",
            "Epoch 8: val_accuracy did not improve from 0.57314\n",
            "500/500 [==============================] - 114s 227ms/step - loss: 0.7026 - accuracy: 0.6931 - val_loss: 0.9740 - val_accuracy: 0.5666\n",
            "Epoch 9/50\n",
            "500/500 [==============================] - ETA: 0s - loss: 0.6533 - accuracy: 0.7197\n",
            "Epoch 9: val_accuracy did not improve from 0.57314\n",
            "500/500 [==============================] - 120s 240ms/step - loss: 0.6533 - accuracy: 0.7197 - val_loss: 1.0185 - val_accuracy: 0.5564\n",
            "Epoch 10/50\n",
            "500/500 [==============================] - ETA: 0s - loss: 0.6056 - accuracy: 0.7439\n",
            "Epoch 10: val_accuracy did not improve from 0.57314\n",
            "Restoring model weights from the end of the best epoch: 5.\n",
            "500/500 [==============================] - 124s 248ms/step - loss: 0.6056 - accuracy: 0.7439 - val_loss: 1.0492 - val_accuracy: 0.5651\n",
            "Epoch 10: early stopping\n",
            "125/125 [==============================] - 11s 91ms/step - loss: 0.9321 - accuracy: 0.5731\n",
            "quality prediction: 0.5731433033943176\n"
          ]
        }
      ]
    },
    {
      "cell_type": "code",
      "source": [
        "from keras.callbacks import ModelCheckpoint, EarlyStopping\n",
        "\n",
        "# Define a callback to save the best model during training\n",
        "checkpoint_path = \"difficulty_model_class_checkpoint.h5\"\n",
        "checkpoint = ModelCheckpoint(checkpoint_path, monitor='val_accuracy', verbose=1, save_best_only=True, mode='max')\n",
        "\n",
        "# Define early stopping callback\n",
        "early_stopping = EarlyStopping(monitor='val_accuracy', patience=5, verbose=1, mode='max', restore_best_weights=True)\n",
        "\n",
        "# Build the quality model\n",
        "difficulty_model = Sequential()\n",
        "difficulty_model.add(Embedding(len(word_index) + 1, embedding_dim, weights=[embedding_matrix],\n",
        "                            input_length=maxlen, trainable=False))\n",
        "difficulty_model.add(Bidirectional(LSTM(64)))\n",
        "difficulty_model.add(Dense(4, activation='softmax'))  # Output 4 classes for sentiment classification\n",
        "\n",
        "# Compile the quality model\n",
        "difficulty_model.compile(optimizer='adam', loss='categorical_crossentropy', metrics=['accuracy'])\n",
        "\n",
        "# Train the quality model with checkpoint and early stopping callbacks\n",
        "difficulty_model.fit(x_train, y_train_difficulty, epochs=50, batch_size=32, validation_data=(x_test, y_test_difficulty), callbacks=[checkpoint, early_stopping])\n",
        "\n",
        "# Evaluate the quality model\n",
        "difficulty_loss, difficulty_accuracy = difficulty_model.evaluate(x_test, y_test_difficulty)\n",
        "print(\"difficulty prediction:\", difficulty_accuracy)\n"
      ],
      "metadata": {
        "colab": {
          "base_uri": "https://localhost:8080/"
        },
        "id": "6GTBwlnOKSJT",
        "outputId": "bce67264-5206-4a0c-e946-894926a64da0"
      },
      "execution_count": null,
      "outputs": [
        {
          "output_type": "stream",
          "name": "stdout",
          "text": [
            "Epoch 1/50\n",
            "500/500 [==============================] - ETA: 0s - loss: 1.2088 - accuracy: 0.4849\n",
            "Epoch 1: val_accuracy improved from -inf to 0.51438, saving model to difficulty_model_class_checkpoint.h5\n",
            "500/500 [==============================] - 116s 225ms/step - loss: 1.2088 - accuracy: 0.4849 - val_loss: 1.1429 - val_accuracy: 0.5144\n",
            "Epoch 2/50\n",
            "500/500 [==============================] - ETA: 0s - loss: 1.1152 - accuracy: 0.5197\n",
            "Epoch 2: val_accuracy improved from 0.51438 to 0.51988, saving model to difficulty_model_class_checkpoint.h5\n",
            "500/500 [==============================] - 112s 224ms/step - loss: 1.1152 - accuracy: 0.5197 - val_loss: 1.1119 - val_accuracy: 0.5199\n",
            "Epoch 3/50\n",
            "500/500 [==============================] - ETA: 0s - loss: 1.0787 - accuracy: 0.5355\n",
            "Epoch 3: val_accuracy did not improve from 0.51988\n",
            "500/500 [==============================] - 108s 217ms/step - loss: 1.0787 - accuracy: 0.5355 - val_loss: 1.1077 - val_accuracy: 0.5186\n",
            "Epoch 4/50\n",
            "500/500 [==============================] - ETA: 0s - loss: 1.0423 - accuracy: 0.5503\n",
            "Epoch 4: val_accuracy improved from 0.51988 to 0.52513, saving model to difficulty_model_class_checkpoint.h5\n",
            "500/500 [==============================] - 125s 249ms/step - loss: 1.0423 - accuracy: 0.5503 - val_loss: 1.0955 - val_accuracy: 0.5251\n",
            "Epoch 5/50\n",
            "500/500 [==============================] - ETA: 0s - loss: 1.0060 - accuracy: 0.5696\n",
            "Epoch 5: val_accuracy improved from 0.52513 to 0.53263, saving model to difficulty_model_class_checkpoint.h5\n",
            "500/500 [==============================] - 113s 225ms/step - loss: 1.0060 - accuracy: 0.5696 - val_loss: 1.0997 - val_accuracy: 0.5326\n",
            "Epoch 6/50\n",
            "500/500 [==============================] - ETA: 0s - loss: 0.9617 - accuracy: 0.5886\n",
            "Epoch 6: val_accuracy did not improve from 0.53263\n",
            "500/500 [==============================] - 111s 221ms/step - loss: 0.9617 - accuracy: 0.5886 - val_loss: 1.1170 - val_accuracy: 0.5214\n",
            "Epoch 7/50\n",
            "500/500 [==============================] - ETA: 0s - loss: 0.9140 - accuracy: 0.6159\n",
            "Epoch 7: val_accuracy did not improve from 0.53263\n",
            "500/500 [==============================] - 109s 217ms/step - loss: 0.9140 - accuracy: 0.6159 - val_loss: 1.1659 - val_accuracy: 0.5109\n",
            "Epoch 8/50\n",
            "500/500 [==============================] - ETA: 0s - loss: 0.8592 - accuracy: 0.6437\n",
            "Epoch 8: val_accuracy did not improve from 0.53263\n",
            "500/500 [==============================] - 112s 224ms/step - loss: 0.8592 - accuracy: 0.6437 - val_loss: 1.1730 - val_accuracy: 0.5039\n",
            "Epoch 9/50\n",
            "500/500 [==============================] - ETA: 0s - loss: 0.7999 - accuracy: 0.6715\n",
            "Epoch 9: val_accuracy did not improve from 0.53263\n",
            "500/500 [==============================] - 110s 220ms/step - loss: 0.7999 - accuracy: 0.6715 - val_loss: 1.2466 - val_accuracy: 0.5096\n",
            "Epoch 10/50\n",
            "500/500 [==============================] - ETA: 0s - loss: 0.7331 - accuracy: 0.7051\n",
            "Epoch 10: val_accuracy did not improve from 0.53263\n",
            "Restoring model weights from the end of the best epoch: 5.\n",
            "500/500 [==============================] - 113s 226ms/step - loss: 0.7331 - accuracy: 0.7051 - val_loss: 1.2801 - val_accuracy: 0.5061\n",
            "Epoch 10: early stopping\n",
            "125/125 [==============================] - 12s 93ms/step - loss: 1.0997 - accuracy: 0.5326\n",
            "difficulty prediction: 0.5326331853866577\n"
          ]
        }
      ]
    },
    {
      "cell_type": "markdown",
      "source": [
        "## Transformer"
      ],
      "metadata": {
        "id": "O4xXxdZfOyxd"
      }
    },
    {
      "cell_type": "markdown",
      "source": [
        "Import libraries"
      ],
      "metadata": {
        "id": "VvxEZWVmOyxe"
      }
    },
    {
      "cell_type": "code",
      "source": [
        "import pandas as pd\n",
        "import torch\n",
        "import torch.nn as nn\n",
        "import torch.optim as optim\n",
        "from torch.utils.data import DataLoader, Dataset\n",
        "from torchtext.data.utils import get_tokenizer\n",
        "from torch.nn.utils.rnn import pad_sequence"
      ],
      "metadata": {
        "id": "_ydjwxX4Oyxe"
      },
      "execution_count": null,
      "outputs": []
    },
    {
      "cell_type": "markdown",
      "source": [
        "Create Transformer Block"
      ],
      "metadata": {
        "id": "aH0YKfS6Oyxe"
      }
    },
    {
      "cell_type": "code",
      "source": [
        "# Helper functions\n",
        "def positional_encoding(position, d_model):\n",
        "    angle_rads = np.arange(position)[:, np.newaxis] / np.power(10000, (2 * (np.arange(d_model)[np.newaxis, :] // 2)) / np.float32(d_model))\n",
        "    angle_rads[:, 0::2] = np.sin(angle_rads[:, 0::2])\n",
        "    angle_rads[:, 1::2] = np.cos(angle_rads[:, 1::2])\n",
        "    pos_encoding = angle_rads[np.newaxis, ...]\n",
        "    return tf.cast(pos_encoding, dtype=tf.float32)\n",
        "\n",
        "def transformer_block(x, num_heads, d_model, rate=0.1):\n",
        "    attn_output = MultiHeadAttention(num_heads=num_heads, key_dim=d_model)(x, x)\n",
        "    attn_output = Dropout(rate)(attn_output)\n",
        "    out1 = LayerNormalization(epsilon=1e-6)(x + attn_output)\n",
        "    ffn_output = Dense(d_model, activation='relu')(out1)\n",
        "    ffn_output = Dense(d_model)(ffn_output)\n",
        "    ffn_output = Dropout(rate)(ffn_output)\n",
        "    return LayerNormalization(epsilon=1e-6)(out1 + ffn_output)"
      ],
      "metadata": {
        "id": "QNlJvbqtOyxe"
      },
      "execution_count": null,
      "outputs": []
    },
    {
      "cell_type": "code",
      "source": [
        "x_train, x_test, y_train_quality, y_test_quality, y_train_difficulty, y_test_difficulty = train_test_split(\n",
        "    data, quality_classes, difficulty_classes, test_size=0.2, random_state=42)"
      ],
      "metadata": {
        "id": "gQzaA5pcWKai"
      },
      "execution_count": null,
      "outputs": []
    },
    {
      "cell_type": "markdown",
      "source": [
        "ALready have loaded dataset, tokenized, and split dataset from before.\n",
        "Load GloVe embedding"
      ],
      "metadata": {
        "id": "vavFTORYOyxe"
      }
    },
    {
      "cell_type": "code",
      "source": [
        "# Load GloVe embeddings\n",
        "embeddings_index = {}\n",
        "with open('/content/drive/MyDrive/Colab Notebooks/glove/glove.6B.300d.txt', encoding='utf-8') as f:\n",
        "    next(f)\n",
        "    for line in f:\n",
        "        values = line.split()\n",
        "        word = values[0]\n",
        "        coefs = np.asarray(values[1:], dtype='float32')\n",
        "        embeddings_index[word] = coefs\n",
        "\n",
        "# Embedding matrix\n",
        "word_index = tokenizer.word_index\n",
        "embedding_dim = 300\n",
        "embedding_matrix = np.zeros((len(word_index) + 1, embedding_dim))\n",
        "for word, i in word_index.items():\n",
        "    embedding_vector = embeddings_index.get(word)\n",
        "    if embedding_vector is not None:\n",
        "        embedding_matrix[i] = embedding_vector"
      ],
      "metadata": {
        "id": "XZlbJ_AJOyxe"
      },
      "execution_count": null,
      "outputs": []
    },
    {
      "cell_type": "markdown",
      "source": [
        "Transformer Model Architecture"
      ],
      "metadata": {
        "id": "cXCYn64QOyxe"
      }
    },
    {
      "cell_type": "code",
      "source": [
        "# Transformer Model Architecture\n",
        "input_layer = Input(shape=(maxlen,))\n",
        "x = Embedding(len(word_index) + 1, embedding_dim, weights=[embedding_matrix], input_length=maxlen, trainable=False)(input_layer)\n",
        "x *= tf.math.sqrt(tf.cast(embedding_dim, tf.float32))\n",
        "x += positional_encoding(maxlen, embedding_dim)\n",
        "x = transformer_block(x, num_heads=8, d_model=embedding_dim)\n",
        "\n",
        "# Output layers for quality and difficulty\n",
        "x = GlobalAveragePooling1D()(x)\n",
        "output_quality = Dense(1, activation='linear')(x)\n",
        "output_difficulty = Dense(1, activation='linear')(x)\n",
        "\n",
        "# Model Compilation\n",
        "model = Model(inputs=input_layer, outputs=[output_quality, output_difficulty])\n",
        "model.compile(optimizer='adam', loss='mean_squared_error', metrics=['mae'])\n",
        "\n",
        "# Model Training\n",
        "model.fit(x_train, [y_train_quality, y_train_difficulty], epochs=10, batch_size=32, validation_data=(x_test, [y_test_quality, y_test_difficulty]))\n",
        "\n",
        "# Evaluate the model\n",
        "overall_loss, quality_loss, difficulty_loss, quality_mae, difficulty_mae = model.evaluate(x_test, [y_test_quality, y_test_difficulty])\n",
        "print(\"Quality MAE:\", quality_mae)\n",
        "print(\"Difficulty MAE:\", difficulty_mae)"
      ],
      "metadata": {
        "colab": {
          "base_uri": "https://localhost:8080/"
        },
        "outputId": "b080798c-a9e3-4fff-8956-990484d5c0ff",
        "id": "FsG5sKPHOyxf"
      },
      "execution_count": null,
      "outputs": [
        {
          "output_type": "stream",
          "name": "stdout",
          "text": [
            "Epoch 1/10\n",
            "500/500 [==============================] - 863s 2s/step - loss: 2.0649 - dense_2_loss: 1.1055 - dense_3_loss: 0.9594 - dense_2_mae: 0.8218 - dense_3_mae: 0.7648 - val_loss: 1.5177 - val_dense_2_loss: 0.6976 - val_dense_3_loss: 0.8201 - val_dense_2_mae: 0.6733 - val_dense_3_mae: 0.6969\n",
            "Epoch 2/10\n",
            "500/500 [==============================] - 860s 2s/step - loss: 1.4863 - dense_2_loss: 0.7307 - dense_3_loss: 0.7556 - dense_2_mae: 0.6816 - dense_3_mae: 0.7059 - val_loss: 1.4251 - val_dense_2_loss: 0.6659 - val_dense_3_loss: 0.7591 - val_dense_2_mae: 0.6303 - val_dense_3_mae: 0.7175\n",
            "Epoch 3/10\n",
            "500/500 [==============================] - 855s 2s/step - loss: 1.4032 - dense_2_loss: 0.6767 - dense_3_loss: 0.7265 - dense_2_mae: 0.6508 - dense_3_mae: 0.6914 - val_loss: 1.4027 - val_dense_2_loss: 0.6901 - val_dense_3_loss: 0.7126 - val_dense_2_mae: 0.6675 - val_dense_3_mae: 0.6846\n",
            "Epoch 4/10\n",
            "500/500 [==============================] - 847s 2s/step - loss: 1.3419 - dense_2_loss: 0.6461 - dense_3_loss: 0.6958 - dense_2_mae: 0.6357 - dense_3_mae: 0.6774 - val_loss: 1.4565 - val_dense_2_loss: 0.7171 - val_dense_3_loss: 0.7394 - val_dense_2_mae: 0.6516 - val_dense_3_mae: 0.7096\n",
            "Epoch 5/10\n",
            "500/500 [==============================] - 856s 2s/step - loss: 1.3291 - dense_2_loss: 0.6317 - dense_3_loss: 0.6974 - dense_2_mae: 0.6251 - dense_3_mae: 0.6769 - val_loss: 1.3797 - val_dense_2_loss: 0.6496 - val_dense_3_loss: 0.7301 - val_dense_2_mae: 0.6475 - val_dense_3_mae: 0.6655\n",
            "Epoch 6/10\n",
            "500/500 [==============================] - 848s 2s/step - loss: 1.2975 - dense_2_loss: 0.6141 - dense_3_loss: 0.6834 - dense_2_mae: 0.6159 - dense_3_mae: 0.6704 - val_loss: 1.4128 - val_dense_2_loss: 0.6806 - val_dense_3_loss: 0.7322 - val_dense_2_mae: 0.6219 - val_dense_3_mae: 0.6711\n",
            "Epoch 7/10\n",
            "500/500 [==============================] - 848s 2s/step - loss: 1.2818 - dense_2_loss: 0.6027 - dense_3_loss: 0.6791 - dense_2_mae: 0.6089 - dense_3_mae: 0.6681 - val_loss: 1.5380 - val_dense_2_loss: 0.8142 - val_dense_3_loss: 0.7238 - val_dense_2_mae: 0.6867 - val_dense_3_mae: 0.6745\n",
            "Epoch 8/10\n",
            "500/500 [==============================] - 855s 2s/step - loss: 1.2481 - dense_2_loss: 0.5823 - dense_3_loss: 0.6658 - dense_2_mae: 0.5983 - dense_3_mae: 0.6608 - val_loss: 1.4383 - val_dense_2_loss: 0.6920 - val_dense_3_loss: 0.7463 - val_dense_2_mae: 0.6309 - val_dense_3_mae: 0.7071\n",
            "Epoch 9/10\n",
            "500/500 [==============================] - 861s 2s/step - loss: 1.2340 - dense_2_loss: 0.5766 - dense_3_loss: 0.6574 - dense_2_mae: 0.5933 - dense_3_mae: 0.6566 - val_loss: 1.3797 - val_dense_2_loss: 0.6462 - val_dense_3_loss: 0.7335 - val_dense_2_mae: 0.6124 - val_dense_3_mae: 0.6760\n",
            "Epoch 10/10\n",
            "500/500 [==============================] - 861s 2s/step - loss: 1.2157 - dense_2_loss: 0.5658 - dense_3_loss: 0.6499 - dense_2_mae: 0.5884 - dense_3_mae: 0.6517 - val_loss: 1.4469 - val_dense_2_loss: 0.7094 - val_dense_3_loss: 0.7376 - val_dense_2_mae: 0.6345 - val_dense_3_mae: 0.6899\n",
            "125/125 [==============================] - 72s 575ms/step - loss: 1.4469 - dense_2_loss: 0.7094 - dense_3_loss: 0.7376 - dense_2_mae: 0.6345 - dense_3_mae: 0.6899\n",
            "Quality MAE: 0.6345183849334717\n",
            "Difficulty MAE: 0.6899022459983826\n"
          ]
        }
      ]
    },
    {
      "cell_type": "markdown",
      "source": [
        "Best Transformer, please use"
      ],
      "metadata": {
        "id": "50yqpNQdilE1"
      }
    },
    {
      "cell_type": "code",
      "source": [
        "import pandas as pd\n",
        "import torch\n",
        "import torch.nn as nn\n",
        "import torch.optim as optim\n",
        "from torch.utils.data import DataLoader, Dataset\n",
        "from torchtext.data.utils import get_tokenizer\n",
        "from torch.nn.utils.rnn import pad_sequence\n",
        "\n",
        "# Constants\n",
        "EMBEDDING_DIM = 300\n",
        "HIDDEN_DIM = 200\n",
        "OUTPUT_DIM = 1\n",
        "BATCH_SIZE = 32\n",
        "NUM_EPOCHS = 10\n",
        "nhead = 5\n",
        "DEVICE = torch.device(\"cuda\" if torch.cuda.is_available() else \"cpu\")\n",
        "\n",
        "# Function to load GloVe embeddings from a file\n",
        "def load_glove_embeddings(path):\n",
        "    with open(path, 'r', encoding='utf-8') as file:\n",
        "        vocab = {}\n",
        "        embeddings = []\n",
        "        for idx, line in enumerate(file):\n",
        "            values = line.split()\n",
        "            word = values[0]\n",
        "            vector = torch.tensor([float(v) for v in values[1:]], dtype=torch.float)\n",
        "            vocab[word] = idx\n",
        "            embeddings.append(vector)\n",
        "        embeddings = torch.stack(embeddings)\n",
        "    return vocab, embeddings\n",
        "\n",
        "# Load the dataset\n",
        "class CommentsDataset(Dataset):\n",
        "    def __init__(self, filepath, glove_path):\n",
        "        self.data = pd.read_csv(filepath)\n",
        "        self.tokenizer = get_tokenizer('basic_english')\n",
        "        self.vocab, self.glove_embeddings = load_glove_embeddings(glove_path)\n",
        "        self.comments = [\n",
        "            torch.tensor(\n",
        "                [self.vocab[token] for token in self.tokenizer(str(x).lower().strip()) if token in self.vocab],\n",
        "                dtype=torch.long\n",
        "            ) for x in self.data['comments'].fillna('')\n",
        "        ]\n",
        "        self.targets = torch.tensor(self.data['diff_index'].values, dtype=torch.float32).view(-1, 1)\n",
        "\n",
        "    def __len__(self):\n",
        "        return len(self.data)\n",
        "\n",
        "    def __getitem__(self, idx):\n",
        "        comment = self.comments[idx]\n",
        "        target = self.targets[idx]\n",
        "        return comment, target\n",
        "\n",
        "# Transformer Model\n",
        "class CommentTransformer(nn.Module):\n",
        "    def __init__(self, embeddings):\n",
        "        super(CommentTransformer, self).__init__()\n",
        "        self.embedding = nn.Embedding.from_pretrained(embeddings, freeze=False)\n",
        "        encoder_layer = nn.TransformerEncoderLayer(d_model=EMBEDDING_DIM, nhead=nhead, dropout=0.1)\n",
        "        self.transformer_encoder = nn.TransformerEncoder(encoder_layer, num_layers=6)\n",
        "        self.fc = nn.Linear(EMBEDDING_DIM, OUTPUT_DIM)\n",
        "\n",
        "    def forward(self, text):\n",
        "        embedded = self.embedding(text)\n",
        "        transformer_out = self.transformer_encoder(embedded)\n",
        "        output = self.fc(transformer_out.mean(dim=1))\n",
        "        return output\n",
        "\n",
        "# Collate function for DataLoader\n",
        "def collate_batch(batch):\n",
        "    comments_list, targets_list = [], []\n",
        "    for (comment, target) in batch:\n",
        "        comments_list.append(comment)\n",
        "        targets_list.append(target)\n",
        "    comments_padded = pad_sequence(comments_list, batch_first=True, padding_value=0)  # Padding\n",
        "    targets = torch.stack(targets_list)\n",
        "    return comments_padded, targets\n",
        "\n",
        "def train_model(model, train_loader, criterion, optimizer, num_epochs=10):\n",
        "    model.train()\n",
        "    for epoch in range(num_epochs):\n",
        "        total_loss = 0\n",
        "        for i, (comments, targets) in enumerate(train_loader):\n",
        "            comments, targets = comments.to(DEVICE), targets.to(DEVICE)\n",
        "            optimizer.zero_grad()\n",
        "            predictions = model(comments)\n",
        "            loss = criterion(predictions, targets)\n",
        "            loss.backward()\n",
        "            optimizer.step()\n",
        "            total_loss += loss.item()\n",
        "        average_epoch_loss = total_loss / len(train_loader)\n",
        "        print(f'Epoch {epoch+1}, Average Loss: {average_epoch_loss}')\n",
        "\n",
        "# Main script\n",
        "filepath = '/content/drive/MyDrive/Colab Notebooks/RateMyProfessor_Sample data.csv'\n",
        "glove_path = '/content/drive/MyDrive/Colab Notebooks/glove/glove.6B.300d.txt'\n",
        "\n",
        "dataset = CommentsDataset(filepath, glove_path)\n",
        "train_loader = DataLoader(dataset, batch_size=BATCH_SIZE, shuffle=True, collate_fn=collate_batch)\n",
        "\n",
        "model = CommentTransformer(dataset.glove_embeddings).to(DEVICE)\n",
        "criterion = nn.MSELoss()\n",
        "optimizer = optim.Adam(model.parameters())\n",
        "\n",
        "train_model(model, train_loader, criterion, optimizer, NUM_EPOCHS)\n",
        "\n",
        "# Save the model\n",
        "torch.save(model.state_dict(), 'comment_transformer_model.pth')\n"
      ],
      "metadata": {
        "colab": {
          "base_uri": "https://localhost:8080/"
        },
        "id": "yejwqxq0gCe6",
        "outputId": "cf9c07ea-b207-4577-e4aa-b4558259b5d3"
      },
      "execution_count": null,
      "outputs": [
        {
          "output_type": "stream",
          "name": "stderr",
          "text": [
            "/usr/local/lib/python3.10/dist-packages/torch/nn/modules/transformer.py:286: UserWarning: enable_nested_tensor is True, but self.use_nested_tensor is False because encoder_layer.self_attn.batch_first was not True(use batch_first for better inference performance)\n",
            "  warnings.warn(f\"enable_nested_tensor is True, but self.use_nested_tensor is False because {why_not_sparsity_fast_path}\")\n"
          ]
        },
        {
          "output_type": "stream",
          "name": "stdout",
          "text": [
            "Epoch 1, Average Loss: 0.6810710085868835\n",
            "Epoch 2, Average Loss: 0.6192629982948303\n",
            "Epoch 3, Average Loss: 0.6156022855758667\n",
            "Epoch 4, Average Loss: 0.6157629336833954\n",
            "Epoch 5, Average Loss: 0.6156298233509063\n",
            "Epoch 6, Average Loss: 0.6110174930095673\n",
            "Epoch 7, Average Loss: 0.6094311248779297\n",
            "Epoch 8, Average Loss: 0.6104958695411682\n",
            "Epoch 9, Average Loss: 0.6099773699283599\n",
            "Epoch 10, Average Loss: 0.6121758715629577\n"
          ]
        }
      ]
    },
    {
      "cell_type": "markdown",
      "source": [
        "# Discussion of our approach\n",
        "\n",
        "So far we utilised same approaches on a combined dataset as well as on large dataset. We saw that model performs better with combined dataset.\n",
        "Tests comparing the combined datasets (large and small) vs using either dataset alone greatly favored the use of the combined datasets, which is understandable since more data tends to lead to better resuts.\n",
        "\n",
        "**RNN:**\n",
        "\n",
        "The differences in MAE and accuracy for regression and classification approaches, when compared between the combined vs large-only datasets, were small but noticeable and favored the combined dataset as expected. This supports our belief that better performance could be achieved with even more data.\n",
        "\n",
        "**Transformer:**\n",
        "\n",
        "Keras: We will start by comparing the results of our Keras-based transformer to the regression-RNN.\n",
        "\n",
        "MAE Comparison:\n",
        "\n",
        "Transformer Quality: 0.6306160092353821\n",
        "\n",
        "Transformer Difficulty: 0.6757775545120239\n",
        "\n",
        "\n",
        "RNN:\n",
        "\n",
        "RNN Quality: 0.5824604034423828\n",
        "\n",
        "RNN Difficulty: 0.6287729740142822\n",
        "\n",
        "Our results comparing the Transformer to the RNN show that they have similar performance, slightly favoring the RNN. This may be due to the relatively small number of data values for training the Transformer, or due to limits in our ability to train and improve the model. It became difficult to optimize the transformer due to it eating through Google Collab computation resources forcing us to use CPU/TPU runtimes and getting multi-hour training times, but our efforts to improve it still yielded positive results.\n",
        "\n",
        "Overall this has served as a good introduction to the group for transformers.\n",
        "\n",
        "\n",
        "Pytorch: We experimented with pytorch implementations of transformers as well which we have included here. The best raw loss numbers we have been able to produce with a transformer as a group were created by a pytorch-based transformer. That said, it is much more difficult to directly compare this transformer to our keras-based RNN's. We have included it as potentially the best performing version of a transformer our group has come up with, but performed our analysis on the keras-based model for ease of direct comparison."
      ],
      "metadata": {
        "id": "4MjcJNATeMWZ"
      }
    }
  ],
  "metadata": {
    "accelerator": "GPU",
    "colab": {
      "provenance": [],
      "gpuType": "T4",
      "toc_visible": true
    },
    "kernelspec": {
      "display_name": "Python 3",
      "name": "python3"
    },
    "language_info": {
      "name": "python"
    }
  },
  "nbformat": 4,
  "nbformat_minor": 0
}